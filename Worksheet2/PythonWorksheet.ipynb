{
 "cells": [
  {
   "cell_type": "code",
   "execution_count": 6,
   "metadata": {},
   "outputs": [
    {
     "name": "stdout",
     "output_type": "stream",
     "text": [
      "I Love Python\n"
     ]
    }
   ],
   "source": [
    "#Strings are immutable.\n",
    "\n",
    "s='I+Love+Python'\n",
    "s=s.replace('+',' ')\n",
    "print(s)"
   ]
  },
  {
   "cell_type": "markdown",
   "metadata": {},
   "source": [
    "# Program To Solve Quadratic Equation:"
   ]
  },
  {
   "cell_type": "code",
   "execution_count": 4,
   "metadata": {},
   "outputs": [
    {
     "name": "stdout",
     "output_type": "stream",
     "text": [
      "Equation of Quadratic Equation: (a * x^2) + b*x + c\n",
      "a: 0\n",
      "b: 2\n",
      "c: 3\n",
      "Invalid value for 'a' (can't be zero). Please try again\n"
     ]
    }
   ],
   "source": [
    "print(\"Equation of Quadratic Equation: (a * x^2) + b*x + c\")\n",
    "a = int(input(\"a: \"))\n",
    "b = int(input(\"b: \"))\n",
    "c = int(input(\"c: \"))\n",
    "\n",
    "r = b**2 - 4*a*c\n",
    "if a!=0:\n",
    "    if r > 0:\n",
    "        num_roots = 2\n",
    "        root_1 = (((-b) + sqrt(r))/(2*a))     \n",
    "        root_2 = (((-b) - sqrt(r))/(2*a))\n",
    "        print(\"There are 2 roots: %f and %f\" % (root_1, root_2))\n",
    "    elif r == 0:\n",
    "        num_roots = 1\n",
    "        x = (-b) / 2*a\n",
    "        print(\"There is one root: \", x)\n",
    "    else:\n",
    "        num_roots = 0\n",
    "        print(\"There is No root, discriminant < 0.\")\n",
    "        exit()\n",
    "else:\n",
    "    print(\"Invalid value for 'a' (can't be zero). Please try again\")"
   ]
  },
  {
   "cell_type": "markdown",
   "metadata": {},
   "source": [
    "#  Program to find the sum of first ‘n’ natural numbers without using any loop:"
   ]
  },
  {
   "cell_type": "code",
   "execution_count": 5,
   "metadata": {},
   "outputs": [
    {
     "name": "stdout",
     "output_type": "stream",
     "text": [
      "Enter a natural number: 3\n"
     ]
    },
    {
     "data": {
      "text/plain": [
       "6.0"
      ]
     },
     "execution_count": 5,
     "metadata": {},
     "output_type": "execute_result"
    }
   ],
   "source": [
    "def sum_n_num():\n",
    "    n=int(input('Enter a natural number: '))\n",
    "    s=(n*(n+1))/2\n",
    "    return s\n",
    "\n",
    "sum_n_num()"
   ]
  },
  {
   "cell_type": "code",
   "execution_count": null,
   "metadata": {},
   "outputs": [],
   "source": []
  }
 ],
 "metadata": {
  "kernelspec": {
   "display_name": "Python 3",
   "language": "python",
   "name": "python3"
  },
  "language_info": {
   "codemirror_mode": {
    "name": "ipython",
    "version": 3
   },
   "file_extension": ".py",
   "mimetype": "text/x-python",
   "name": "python",
   "nbconvert_exporter": "python",
   "pygments_lexer": "ipython3",
   "version": "3.7.4"
  }
 },
 "nbformat": 4,
 "nbformat_minor": 2
}
