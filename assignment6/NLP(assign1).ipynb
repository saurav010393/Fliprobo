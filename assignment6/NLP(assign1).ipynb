{
 "cells": [
  {
   "cell_type": "code",
   "execution_count": 1,
   "metadata": {},
   "outputs": [
    {
     "name": "stdout",
     "output_type": "stream",
     "text": [
      "Requirement already satisfied: nltk in c:\\users\\asus\\anaconda3\\lib\\site-packages (3.4.5)\n",
      "Requirement already satisfied: six in c:\\users\\asus\\anaconda3\\lib\\site-packages (from nltk) (1.12.0)\n"
     ]
    }
   ],
   "source": [
    "!pip install nltk"
   ]
  },
  {
   "cell_type": "code",
   "execution_count": 2,
   "metadata": {},
   "outputs": [],
   "source": [
    "import string\n",
    "from collections import Counter\n",
    "import matplotlib.pyplot as plt"
   ]
  },
  {
   "cell_type": "code",
   "execution_count": 3,
   "metadata": {},
   "outputs": [],
   "source": [
    "import GetOldTweets3 as got #from this library we scrap data from twitter without any tools.\n",
    "\n",
    "def get_tweets(keyword,start,end,mxm):\n",
    "    tweetCriteria=got.manager.TweetCriteria().setQuerySearch(keyword).setSince(start).setUntil(end).setMaxTweets(mxm)\n",
    "    #Now we need to create a list where we will store all the tweets.\n",
    "    tweets= got.manager.TweetManager.getTweets(tweetCriteria)\n",
    "    text_tweets = [[tweet.text] for tweet in tweets]\n",
    "    return text_tweets"
   ]
  },
  {
   "cell_type": "code",
   "execution_count": 4,
   "metadata": {},
   "outputs": [],
   "source": [
    "# We are taking the tweets which has been posted before the outbreak of corona virus in India as analysing the tweets.\n"
   ]
  },
  {
   "cell_type": "code",
   "execution_count": 5,
   "metadata": {},
   "outputs": [],
   "source": [
    "tweet_before= get_tweets('corona virus', '2020-01-20','2020-02-28',500)"
   ]
  },
  {
   "cell_type": "code",
   "execution_count": 6,
   "metadata": {},
   "outputs": [
    {
     "data": {
      "text/plain": [
       "[['California Is Monitoring at Least 8,400 People for Coronavirus, Governor Says '],\n",
       " ['【Responses to New Coronavirus Infections】 http://systemtoyo.jugem.jp/?eid=55 #jugem_blog'],\n",
       " ['Just heard that all statements about the Coronavirus are going to be screened by the administration. So starts what trumpp wants to do ... control information to the public. Wants his own propaganda'],\n",
       " ['#Coronavirus #COVID19 It’s going global @TheEconomist https://twitter.com/Finanzas_Times/status/1227034596400881664'],\n",
       " ['Nun wird sich die völlige Unfähigkeit Merkels angesichts der Flüchtlingsströme, des Coronavirus, der bevorstehenden Rezession u.v.w. offenbaren. Wer dann glaubt, auf linksgrünen Sozialismus setzen zu müssen, besiegelt die totale deutsche Krise vollends.'],\n",
       " ['Pacientes sin seguridad social deberán ser atendidos por hospitales estatales en caso de resultar infectados por #coronavirus; #IMSS e #ISSSTE afirmaron que tienen capacidad de atención en sus sistemas.'],\n",
       " ['Coronavirus and climate are problems in need of a political message and Scott Morrison is hard at work '],\n",
       " [\"California Governor Says State 'Monitoring' 8,400 For Coronavirus; 33 Have Tested Positive; In New York, 700 Asked To 'Self-Isolate': Live Updates | Zero Hedge \"],\n",
       " [' esa. Es el coronavirus ... '],\n",
       " ['Will the government order and enforce quarantines for coronavirus like it does with measles and other infectious diseases?'],\n",
       " ['Coronavirus and Global Trade https://wp.me/p9eVpe-oCE via @GlobalTradeMag'],\n",
       " ['This damn Corona virus knocked my stocks all the way to hell /:'],\n",
       " ['The Federal Ministry of Health has confirmed a coronavirus(Covid-19) case in Lagos State Nigeria. The case which was confirmed on 27/02/2020 is the first case to be reported in Nigeria since the beginning of the outbreak in China in January 2020 @WHO @BBCWorld #CoronaVirusUpdates'],\n",
       " ['If Pence adding Larry Kudlow to the coronavirus research brain thrust doesn’t tell you how incompetent he is then nothing will! Pence screwed up an Indiana’s HIV alarm and Kudlow hasn’t built up industries, but lives off of speculating! Gambling with his life!?'],\n",
       " ['@billburr So how many people are you secretly, deep down, KINDA SORTA hoping the Corona virus will take out Billy? 1? 2 billion people? Shhh it’s just you and me bud. You can tell me. '],\n",
       " ['El agua de tanga es más peligroso que el coronavirus y no le están dando toda la cobertura mediática que merece.'],\n",
       " ['What a smart thinking! While other countries such as Italy, Switzerland, Austria and 40+ other countries with cases of Covid-19 (yeah, that’s other name for Corona Virus if you don’t know) can freely enter to Australia. I’m speechless...'],\n",
       " ['Varandas podia apanhar Peste Negra, ja nem falo do coronavirus, quero mm que ele morra apodrecido'],\n",
       " [\"Who's in charge of the Trump administration's coronavirus response? https://cbsn.ws/2PxyGdb\"],\n",
       " ['El 01,de marzo tiran al chino infectado de Coronavirus.'],\n",
       " [\"Coronavirus: WHO Director-General says world is 'at a decisive point' \"],\n",
       " ['Three stocks that did well today have \"staying at home\" in common: Netflix, Peloton, and Zoom (video conferencing). Heads-up! #coronavirus'],\n",
       " ['Coronavirus Disease 2019 (COVID-19) | CDC '],\n",
       " ['As fears over the #coronavirus outbreak spread, thousands of Americans are clamoring to buy face masks in an effort to protect themselves. But the best way to prevent coronavirus? Wash your hands. '],\n",
       " ['PM says #coronavirus is 10x more severe than flu: “this virus is about 10 times more severe than the flu when it comes to its rate of mortality. Now that is significantly less than what SARS and MERS were, but as I said, it moves more quickly” - @ScottMorrisonMP on @AlanJones'],\n",
       " ['Delcy es el propio coronavirus'],\n",
       " ['How many black people done caught the Coronavirus?'],\n",
       " ['Que estrategia tiene Tamaulipas en caso de una pandemia por coronavirus?'],\n",
       " ['yo tengo la corona virus k se joda'],\n",
       " [\"I'm obviously not a seasoned economist but my instinct is that blaming the stock market crash on the corona virus is a half truth at best.\"],\n",
       " ['Yet the actual doctor(Carson) wasn’t selected to oversee the coronavirus response. Mike Pence was selected. Go figure.'],\n",
       " [\"Why don't you speak about the Coronavirus @BillGates ?\"],\n",
       " ['BBC News Mundo - Coronavirus: ¿por qué más hombres que mujeres han sido afectados en China? '],\n",
       " ['Mas miedo con tan poca información proporcionada por la compañía MSC sobre coronavirus. '],\n",
       " ['You’re daddy has a real (not manufactured) big issue w/ this CoronaVirus coming...&amp; so far he’s failing miserably! Word of advice.. if he put as much energy into this CoronaVirus as he does going after his political rivals &amp; enemies he’d be on top of it! #CoronaVirus or #Enemies'],\n",
       " ['#PlagueInc es eliminado de la #AppStore en #China #CoronaVirus Edens Forever® '],\n",
       " ['Coronavirus Situation Is Quickly Going From Bad To Worse. https://youtu.be/kr1AkRtIHX4 via @YouTube'],\n",
       " ['Oh mano agora sou vizinho do corona virus'],\n",
       " ['I guess medical professionals and scientists are too much to expect? Goddamn Trump is going to destroy us all. Thanks you spineless #cowards in the @SenateGOP #coronavirus '],\n",
       " ['[Cw: CORVID-19, coronavirus] '],\n",
       " ['Espero y tengo fe, que el Todopoderoso DIOS, le mande el corona virus'],\n",
       " ['Perfettamente d’accordo .. ma come possiamo fare ?.. non vogliono mandarci a votare .. il Paese sta crollando sta fallendo la follia da coronavirus impedisce alla gente di vivere di fare le cose più normali .. ma loro stanno incollati alle poltrone '],\n",
       " ['Y más encima viene con coronavirus jajajja'],\n",
       " ['El coronavirus cuando ve que alguien no usa tapabocas. '],\n",
       " ['tienen coronavirus '],\n",
       " ['Can you see? THIS is the reason for the sell off: A REAL negative change in NUMBERS that result from disruption in sales and supply chain caused by #coronavirus It’s not “panic” idiots, it’s the economic impact it will have on all of us. The sell of is VALID. #SPX $QQQ'],\n",
       " [\"The right word is QUARANTINE.. China is actively quaurantining its own citizens in 'corona virus striken regions'..Yet our joker government doesn't understand the significance of this? #coronavirusInkenya\"],\n",
       " ['#FacePalmEditorial \"novel #coronavirus\" '],\n",
       " ['Chicas afeitense esas chochas que el coronavirus se queda en los pelos'],\n",
       " ['Looks like I’m getting the coronavirus because I am not getting rid of my facial hair. '],\n",
       " ['Mam you have bigger issues then corona virus!! You have a better chance of getting hit by a bus.. why panic? The cure rate is 98.9%. Use common sense... not panic.'],\n",
       " ['132 pessoas suspeitas de corona vírus mano??? Deus abençoe BH '],\n",
       " [\"Trump is worried the coronavirus effecting the stock market affects his electability. Doesn't want anymore to cover or talk about it. Our right to know.\"],\n",
       " ['Ministro en Singapur habla sobre el Coronavirus '],\n",
       " ['Lo curioso es que en América Latina con Dengue y Sarampión también los medios hablen de Coronavirus!'],\n",
       " ['Hola Vane!... te he extrañado!...saludos desde Alemania!... aprovechando este tuitazo... sabes cuando llegará “oficialmente” el coronavirus según el #AMLO el ilusionista?... el 9de mzo.... te vas a acordar de mi!.. puedes subir una foto nueva? '],\n",
       " ['The Democrats ate lunatics and the anti-American leftists media is complicit with the hype surrounding this so-called pandemic. The flu kills ~200-600K globally each year, Coronavirus is up to... uh... maybe 3K!!'],\n",
       " ['Y cuando el gobierno empieze a combatirlo, @sofffiaaa sofia niño de rivera (así en minúsculas) estará a favor del coronavirus, y quizás hasta llame dictador a Amlo por no dejarlo vivir (al coronavirus). Así las cosas con esta actriz? O a que cosa se dedica ésta persona?'],\n",
       " ['coronavírus criando uma proporção assustadora meu pai'],\n",
       " ['Meghan McCain Silences Audience Members After They Cheer For Pence Failing On Coronavirus https://thepoliticalinsider.com/meghan-mccain-silences-audience-members-after-they-cheer-for-pence-failing-on-coronavirus/ via @TPInsidr'],\n",
       " ['The incompetent manner in which Trump is handling the “CORONAVIRUS” is DANGEROUS I will not advice anyone to attend his Rallies… HE IS DANGEROUS '],\n",
       " ['A ovi nasi \"strucnjaci\" nek se i dalje sprdaju sa #coronavirus.. hrk pu! '],\n",
       " [\"New York is making its own #coronavirus test after CDC's tests have repeatedly failed #COVID19 #COVIDー19\"],\n",
       " ['El es el coronavirus y murcielago todo junto'],\n",
       " ['-Su satidad le temo al Coronavirus echeme su bendición.! - Gracias por venir sin tapa boca gordo ladrón. '],\n",
       " ['vou ser obrigada a ir contra minha crenças e usar lolo pra me prevenir no corona vírus???? não é possível'],\n",
       " ['Mike Pence Calls For Urgent Research Into Which Sin Coronavirus Is Punishment For '],\n",
       " ['Cadê aquele pessoal que fazia piada que o corona vírus não sobreviveria ao Carnaval BR?'],\n",
       " ['La primera imagen responde a una edición publicada en 1981. Pero me puse a buscar y han salido varias ediciones en español, porque curiosamente el malvado Coronavirus está en Italia, a donde llegan los héroes a enfrentarlo. Demasiada coincidencia'],\n",
       " ['But.... How can the coronavirus get over the wall?'],\n",
       " [\"#Coronavirus and Movie Theaters: Here's What to Expect Theater closings would be unprecedented, but that doesn't mean it's impossible. However, streaming could be a bigger threat than the virus. https://www.indiewire.com/2020/02/coronavirus-movie-theaters-heres-what-to-expect-1202213186/ via @indiewire\"],\n",
       " ['No but how did Dean Koontz in 1981 predict corona virus though this is too weird '],\n",
       " [\"Coronavirus: WHO Director-General says world is 'at a decisive point' \"],\n",
       " [\"Qu'est-ce qu'elle a fait? C'est elle la scientifique maléfique qui a créé le coronavirus dans son laboratoire secret ou quoi?\"],\n",
       " ['California is monitoring at least 8,400 people for the coronavirus - CNBC '],\n",
       " ['Nigeria wants to be famous sha.... They want to take credit how they deal with Coronavirus'],\n",
       " ['I can’t believe the brits brought coronavirus to Ireland :/'],\n",
       " [\"Coughing elderly woman leaves courtroom after Irish judge's coronavirus plea #Coronavirusireland\"],\n",
       " ['Ocasio-Cortez: Pence ‘Not Qualified’ to Lead Coronavirus Effort — He ‘Literally Does Not Believe in Science’ http://bit.ly/2I3ab3c via @BreitbartNews Says the queen of global warming...ex-bartender, who is eminently qualified to pass judgement.'],\n",
       " ['@BraianGonalves8 e vamos de corona vírus '],\n",
       " ['If we can convince people that the Coronavirus is a gay disease they won’t do anything to contain it. '],\n",
       " [\"@ABC's broadcast: On @ABCNewsLive, we have more after the Dow Jones Industrial Average plummeted 1,190 points as economic uncertainty over the spread of the novel coronavirus continued to rattle markets. WATCH LIVE: \"],\n",
       " [\"There's now a confirmed Corona virus case in Lagos?\"],\n",
       " ['Good way to spread the #coronavirus'],\n",
       " [\"Well, we've found one source of spreading the Coronavirus. MFers!\"],\n",
       " ['Tem corona vírus na minha cidade '],\n",
       " ['Chevron sends 300 British employees home as coronavirus precaution https://mol.im/a/8044229 via @MailOnline'],\n",
       " ['Como o coronavírus pode impactar o esporte mundial? - https://www.torcedores.com/noticias/2020/02/como-o-coronavirus-pode-impactar-o-esporte-mundial'],\n",
       " ['Jajaja cualquier neumonía será un potencial caso de coronavirus.'],\n",
       " ['[27/2 8:56 PM] Felipe da : Será que eu sou mandado embora amanhã?! Faltei 3 dias kkkkkkk [27/2 8:57 PM] Felipe da : Eu estou tossindo vou falar que estava com suspeita de corona vírus idiota'],\n",
       " ['Pro mercado estar dando toda essa importância pro Coronavírus, provavelmente a situação é bem pior do que a gente pensava baseado em dados divulgados pela China.'],\n",
       " ['Ok I just heard on the evening news that a coronavirus patient in Hong Kong has her dog tested for the virus and it came back weakly positive!!?? If people start hearing and believing that, it is going to cause panic and slaughter of people’s pets!! #WildEarth'],\n",
       " ['FACT CHECK: While discussing the coronavirus during Tuesday\\'s debate, these two candidates blamed our President.. Joe Biden and Mike Bloomberg were \"both wrong\" to say critical health agencies faced funding cuts. \"DEMOCRATS LIE &amp; CHEAT\" It\\'s what they do most..'],\n",
       " [\"@CNBC \\u2066@realDonaldTrump\\u2069: Fed and SEC should close stock markets the next 14 days. They need to go into quarantine until the coronavirus fear has subsided. Stop the bleeding! Markets will start freezing up even if the Fed cuts rates,' El-Erian says \"],\n",
       " [\"MAINLAND CHINA'S TOTAL NUMBER OF CONFIRMED CORONAVIRUS CASES HITS 78,824 AS OF END-FEB 27\"],\n",
       " ['esse teu tell tá é com corona vírus'],\n",
       " ['Oriana me va a contagiar coronavirus ni a palo tomo mate'],\n",
       " ['Pero mira que lucrativo el Coronavirus! ... qliaos carerajas!!!! Ladrones de mierda. #ChileViolaDDDHH #PacosAsesinos #RenunciaRozas #PineraElAsesinoEresTú #ElPeorPresidenteDeLaHistoria #FacherioTerrorista #SinJusticiaNoHayFestival #FestivalDeVinaDelMar #Vina2020 #VinadelMar2020'],\n",
       " ['So, like the coronavirus what do you think about it '],\n",
       " ['Con este pedo del coronavirus a cada rato me estoy lavando las manos '],\n",
       " ['Best economy in US History Promises Made, Promises Kept by @POTUS Clinton, Obama, Bidens, &amp; Dems sold US secrets to China Dems, 1 failed hoax after another (Russia, Ukraine) Tariffs on China = slowest growth in decades Coronavirus \"released\" by China? Coincidence? #MAGA #KAG'],\n",
       " [\"I'm more concerned with catching the flu. Over 16000 have died from flu virus sence the coronavirus first infected anyone and less then 1500 have died from it.\"],\n",
       " ['aonde tiver menos casos de coronavírus'],\n",
       " ['The Deep State globalist takeover. The CDC doctor who caused the Coronavirus market crash panic? Rod Rosenstein’s SISTER! https://www.libertybell.com/rod-rosensteins-sister-at-the-cdc-pulls-shameful-move-on-trump-while-hes-overseas/'],\n",
       " [\"She said that Trump is not spending enough money on the corona virus like they did on ebola. Then says he taking the money from the ebola virus that they didn't spend lol\"],\n",
       " ['Coronavirus Has Material Impact on Earnings - https://go.shr.lc/32wBHQ0 $SPY $DJIA $QQQ #stocks #StockMarket #CNBC #markets #coronavirus #podcast'],\n",
       " ['Je regarde les infos là , le coronavirus c est chaud .... Les gars si sa arrive en Martinique qu’est ce qu’on fait ?'],\n",
       " ['Eh! Coronavirus jeux tein foi sima'],\n",
       " ['En estos días que llevamos con la crisis del coronavirus, en España han muerto 30 trabajadores, ninguno por esa enfermedad, nuestra propia epidemia tiene otro nombre, se llama patronal.'],\n",
       " ['e minha mae agr, q n quer q eu sai de casa por causa do coronavírus'],\n",
       " ['International students has become our largest exports – this is having a massive effect on the economy in Adelaide. The coronavirus issues are going to set us back but once they’re sorted out I’m very optimistic about growing number of students - SA Premier'],\n",
       " ['Esse papel toalha da cozinha com dois elasticos de escritório na cara como máscara é bem eficaz contra o corona virus, igual trancar o portão com um cadarço. Podem compartilhar, da certo sim viu '],\n",
       " ['Acho engraçado os brasileiros em pânico com corona vírus, sendo que temos surtos anuais de dengue, além de doenças letais que estavam ERRADICADAS, agora pra corona vírus cês querem vacina né, tendi'],\n",
       " ['Não posso morrer de corona vírus nem fui amado de vdd ainda tmnc'],\n",
       " ['#coronavirus #trumpvirus #idiotinchief #takebackourcountry #healthcare'],\n",
       " ['se hj ja nao foi quase criança nenhuma na escola será q depois dessa suspeita de coronavirus as mães vão mandar menos ainda? ia levar o violão pra tocar pra elas'],\n",
       " ['Tuga mm é podre, nem Coronavirus quer pegar um '],\n",
       " ['Hey Cool Mint has unfortunately been delayed due to the coronavirus crisis. We are waiting on an update from the manufacturer If you are wanting to order Cool Mint along with other in stock dice we’d advise you play a separate order '],\n",
       " ['He is the link to my recent interview with @Forbes about: “5 Things Every Traveler Should Do To Stop The Spread Of Coronavirus”. https://www.forbes.com/sites/loisaltermark/2020/02/25/5-things-every-traveler-should-do-to-stop-the-spread-of-coronavirus/amp/'],\n",
       " ['Three coronavirus patients are being treated in the East Bay – Marin Independent Journal '],\n",
       " ['ya se enteraron que está el primer caso de coronavirus en CÓRDOBA???'],\n",
       " ['IN FRANCOFORTE NON HANNO PAURA DI CORONAVIRUS !!! https://youtu.be/oBJ8hIJAb18 di @YouTube'],\n",
       " ['Quit lying and start leading. YOU literally allowed the coronavirus to come the the USA. Trump owns the stock market crash. You have taken credit now the blame. Get busy and quit screwing around.'],\n",
       " ['*EL NORTE* Monterrey, Nuevo León 26 de febrero de 2020. Hospital Christus Muguerza confirma primer caso de coronavirus en Nuevo León. El afectado sería un conocido empresario de la ciudad que viajó a los Ángeles. https://bit.ly/2GX0RNZ'],\n",
       " ['A PM é um milhão de vezes pior que o coronavírus. Se absolvem dos próprios crimes hediondos e ainda querem por a culpa das 9 mortes nos organizadores do baile. De cair o cú da bunda. #PM #bailefunk #justiça #brasil'],\n",
       " [\"Trump's government withdrew billions of dollas from the CDC and given medical centres inadequate guidelines for testing for Corona Virus. A disaster waiting to happen in the US.\"],\n",
       " ['Siyempre US trerritory. Yung China puro \"peke\" gawa. Bigas, gulay, sapatos, bags, make up puro peke dahil mura ang labor doon. etc etc. Yung Corona virus sa kanila nagmula ano pa gusto niyong sakit? Wala pang Lunas until now. '],\n",
       " [\"How much prepared are we if #coronavirus were to hit India? Are there adequate hospitals &amp; facilities to handle it? What measures are being taken for early detection of virus &amp; to curb it's spread? What are curative measures? @MoHFW_INDIA\"],\n",
       " ['Já me vejo infartando tendo q pegar o CDU LOTADO com medo do Corona Vírus'],\n",
       " ['Japan Shocks Parents by Moving to Close All Schools Over Coronavirus '],\n",
       " ['Esta para llorar el presidente, todo lo desvía a un complot en su contra, ahora resulta que la realidad también se confabula en su contra y el coronavirus es conservador y quiere boicotear su proyecto, surrealismo político.'],\n",
       " ['É né, vamos se pegar Antes que o coronavirus nos pegue'],\n",
       " ['#BREAKING MAINLAND #CHINA REPORTS 327 NEW CONFIRMED CASES OF #CORONAVIRUS AND 44 DEATHS ON FEB 27- NHC'],\n",
       " ['Ya estoy viéndolos echando ahora la culpa de la caída en la Economía a \"factores externos\", léase Coronavirus.'],\n",
       " ['If corona virus had a vaccine half y’all wouldn’t get it anyway. Wash ya hands &amp; be quiet.'],\n",
       " [\"Iran's leadership figures all contracting coronavirus makes sense when you learn that they wipe with their left hands\"],\n",
       " ['Palmares de la faculté de pharmacie : -4 ressortisants de Wuhan -Nous harcelent de mails contre le coronavirus -A 30 secondes de cette hôpital : '],\n",
       " ['Local hospitals prepare for Mid-South coronavirus cases, say risk is low for area '],\n",
       " [\" \\u200dCancellate le ultime due tappe dell'@@uae_tour: 2 membri italiani dello staff di una squadra positivi al #coronavirus Gli ultimi aggiornamenti con @stefanorizzato Scopri di più http://bit.ly/2vbOyet #UAETour #ciclismo\"],\n",
       " [\"Here's the screenshot from that non-clicking link. (I just emailed them to ask if they can be used against coronavirus &amp; if we all trade them up, we can have some fun with this panic, yes?) \"],\n",
       " ['Corona vírus eh o caralho parsa kkkkkk'],\n",
       " ['I had a dream once that I was flying like a bird and got the bird flu. Now I just had a dream that was drinking a shit ton of Coronas, then got the Coronavirus...sorry everyone had ya do it'],\n",
       " ['Investment advisors worry U.S. response to coronavirus is too... '],\n",
       " ['Preguntas y respuestas clave sobre la epidemia de coronavirus y la salud '],\n",
       " ['Improvvisamente l’emergenza è rientrata. Dal nulla guarigioni in due giorni e tutto torna come prima. Che cosa strana ‘sto #coronavirus #coronavirusitalia'],\n",
       " ['TENGO FIEBRE = CORONAVIRUS'],\n",
       " ['Ils ont amené une personne qui a le coronavirus à Lille ? Mais pk Mon plus beau stresse encore plus présent !'],\n",
       " ['(Can Your Beards Put You At Threat Of Coronavirus?Guardian Life — The Guardian Nigeria Information – Nigeria and World News) - https://www.sabi-sabi.com/2020/02/27/can-your-beards-put-you-at-threat-of-coronavirusguardian-life-the-guardian-nigeria-information-nigeria-and-world-news/'],\n",
       " ['“JOANS” But Seriously, this sounds appropriate for this #POTUS or if he were to be in the “very low” 1-3% of deaths from the Coronavirus, might be great irony! '],\n",
       " ['Na hora de pular carnaval coladinho com gente estranha fazendo sexo sem camisinha com turistas de TD canto do mundo coronavírus não era preocupação mas pra ir em manifestação e perigoso ,após carnaval este surto vai triplicar aguardem '],\n",
       " ['#coronavirus Ns vie sont entre leurs de G/D Le chercheur (bourgeon)la chercheuse (fatale)au milieu leur mentor (beaujolais)la sa droite doc(frissounette)es a sa droite de sa droite son assistant étudiant (rasé)indispensable '],\n",
       " ['Efforts to strike coronavirus funding agreement undermined by partisanship - @ABC News'],\n",
       " ['Watching Nats and drinking some Lebanese araq - that’s a good nt- cause coronavirus, stock mkt tanking, Idlib humanitarian disaster all too depressing.. '],\n",
       " ['You can now say with all certainty that you should believe nothing this administration says about the #coronavirus This is why @realDonaldTrump needs to be removed and all his non-science believing lackeys. They are literally putting your life at risk. #PrayAwayPence'],\n",
       " ['From my blog: #Coronavirus homeopathic potions – here comes the quackery and woo https://goo.gl/fb/ZRt9Br #homeopathy'],\n",
       " ['@HeartlandMamas Corona Virus: Is this the real life or another tRump Fantasy? We unpack what you need to know about #CoronaVirus Audio: https://www.stitcher.com/podcast/heartland-mamas Video: https://youtu.be/UmUsDhePXDU Like * Share * Download * Subscribe #DemCast'],\n",
       " ['Pope Francis has a symptom similar to #coronavirus — not known if he was tested positive amid northern Italy lockdown '],\n",
       " ['Carlos, te equivocas, y mucho, ya basta de decir mentiras, el Coronavirus se encontrara con un sistema de salud MUERTO... que bonito no?'],\n",
       " ['Ala a primeira paciente com coronavirus'],\n",
       " [\"I had just been thinking about how the #coronavirus could affect Super Tuesday. What if there is no 'in person' voting in certain areas of #California?\"],\n",
       " ['CALIFORNIA is monitoring at least 8,400 people for the coronavirus https://www.cnbc.com/2020/02/27/california-is-monitoring-8400-people-for-the-coronavirus.html #SmartNews'],\n",
       " ['Só para saberem que o coronavirus já houve em 2002/2003 e em 2012'],\n",
       " ['When asked about his decision to put Pence in charge of the coronavirus, he said (his exact words) \" He\\'s..ah..really very expert at the field\". WTF...I have ESL students who speak better English.'],\n",
       " ['Disseram q tinha suspeita de coronavirus aqui no RJ Eu: só acredito vendo Eu vendo: n acredito Pelo amor de Deus alguém me tira daqui'],\n",
       " ['This is unacceptable \\u2066@GOP\\u2069. We need to hear the unvarnished, unedited truth, not what trump spins. Pence Will Control All Coronavirus Messaging From Health Officials - The New York Times '],\n",
       " ['I would literally die if i got coronavirus '],\n",
       " ['pegou corona vírus= burguês safado'],\n",
       " ['Nicht nur das Corona-Virus. '],\n",
       " ['@nirailways @TranslinkNIR @Translink_NI @GoldlineNI @BelTel Translink can u pls urgently confirm that u have deep cleaned and disinfected europa bus station, GVS railway station and all affected buses and/or trains after Coronavirus patient identified today before fri commute?'],\n",
       " ['Os médicos brasileiros estão preocupados com a chegada do coronavírus '],\n",
       " ['Série.s #OnTheSpotPortraits : . Musée du Louvre à Paris en février 2020 : alerte au coronavirus covid-19 . Louvre Museum in Paris in February 2020: alert to the coronavirus . © http://PFRunner.com'],\n",
       " ['Para los que no saben, el coronavirus, es de PISCIS.'],\n",
       " ['Mano tô com muito medo desse corona vírus'],\n",
       " ['The global coronavirus share rout is picking up pace as traders who believed the best have quickly swung to fearing the worst https://www.abc.net.au/news/2020-02-28/asx-carried-away-in-worsening-coronavirus-share-rout/12009886?section=business #ASX #coronavirus #COVIDー19 $240 billion has been wiped off the value of Australian stocks in just a week.'],\n",
       " ['World prepares for major coronavirus outbreak '],\n",
       " ['Chineke ekwekwala ihe ojö!!! Before you know now, it will be breaking new!!! *camrina virus neighbor to Corona virus*... Wazrili-goininon??? '],\n",
       " ['@realDonaldTrump @SecAzar @VP are endangering Americans. The Coronavirus was brought to the US by our government, workers were not given proper PPE when escorting incoming passengers, testing should be for everyone feeling flu like symptoms, states do not have enough test kits,'],\n",
       " ['Jimmy Kimmel mocks Pence’s ability to tackle coronavirus: ‘What’s his plan, abstinence?’ – Fox News #Breaking #Global #News #World'],\n",
       " ['Jugó el coronavirus'],\n",
       " ['Corona vírus também '],\n",
       " ['minha mãe acha que eu to com corona vírus'],\n",
       " ['drauzio varella tinha falado que nao era pra se preocupar com negocio de corona virus qual foi drauzio ta metendo o papo torto'],\n",
       " [\"Mainland China'S Total Number Of Confirmed Coronavirus Cases Hits 78,824 As Of End-Feb 27\"],\n",
       " ['*Arrivée du Corona Virus en Guadeloupe* Avengers rassemblement : '],\n",
       " ['Tem q descobrir logo uma vacina p esse coronavirus'],\n",
       " ['Latest official global Coronavirus stats: 82,756 infected 2,814 deaths Which figures to a 3.4% death rate. #Math https://gisanddata.maps.arcgis.com/apps/opsdashboard/index.html#/bda7594740fd40299423467b48e9ecf6'],\n",
       " ['Is the market sell off mostly related to the Corona Virus or is the Fed’s balance sheet a significant factor too?'],\n",
       " [\"Coronavirus BREAKS Quarantine, SF Declares Emergency, CDC Says It's ON https://youtu.be/bxY4lpc207Q via @YouTube\"],\n",
       " [\"That's why pence was put in charge to try and control the information about the coronavirus\"],\n",
       " ['Ante el temor por el coronavirus la Bolsa Mexicana mantiene su tendencia negativa y cayó 2.64% en la jornada de este jueves '],\n",
       " ['DISPARADA DO DÓLAR É UM CORONAVÍRUS PARA O CONSUMO http://souchocolateenaodesisto.blogspot.com/2020/02/disparada-do-dolar-e-um-coronavirus.html#.XlhX4ntqSM4.twitter'],\n",
       " ['1) NICOLAS MADURO NUNCA FUE UN ESTUDIANTE DISTINGUIDO PERO HABLA DE HISTORIA COMO SI SUPIERA DE LO QUE HABLA. 2) CADA DÍA REINVENTANDO UN CUADRANTE DE PAZ Y LA DELINCUENCIA ES PEOR, ASÍ COMO EN PDVSA. Y 3) HABLA QUE EL CORONAVIRUS ES CREADO PARA GUERRA BIOLOGICA DE CHINA. '],\n",
       " ['Yep. Tell Trump that no matter how many times he repeats his lies about the threat of the coronavirus or, laughingly, tries to blame the Democrat debate, the selloff will continue. And his prime gauge of how great the economy is will continue to get pounded.'],\n",
       " ['USA following Event 201 recommendations?#virus #CoronaVirus #COVID19 Economy over humanity? Controlled narrative over truth? See for yourself. http://www.centerforhealthsecurity.org/event201/recommendations.html'],\n",
       " ['#Internacional Se desploma Wall Street por coronavirus https://www.strmnoticias.com/single-post/2020/02/27/Se-desploma-Wall-Street-por-coronavirus'],\n",
       " ['Coronavirus Actualización de Mapa Caso sospechoso en Chile '],\n",
       " ['El gobierno de china sabia q eso iba a pasar si habia un nuevo virus y tambien q les conviene quitarse gente de enmedio por su superpoblacion, no os extrañeis si sale en un tiempo q el propio gobierno chino fue el q empezo con el coronavirus, hay conspiraciones en todas partes '],\n",
       " ['Hey, #MikePence, #RushLimbaugh is available evenings to help you &amp; your other experts. #Coronavirus'],\n",
       " [\"Coronavirus: How a 'drive-through' testing facility in London works: A new scheme is being introduced to ease pressure on health services, as experts expect more cases to emerge. http://dlvr.it/RQtf0Z\"],\n",
       " ['Trump hammers ‘incompetent’ Pelosi for trying to politicize coronavirus '],\n",
       " ['\"Tini suspendió un encuentro con sus fans por el coronavirus\" JAJAJAJAJAJJAJAJAJAJAJ'],\n",
       " ['El barril de petroleo esta por debajo de usdlr 48.00, PERDIO MAS DEL 15% DEL VALORB por causa corona VIRUS pero en Panamá con estos PRD SUBE GASOLINA. INCREÍBLE. '],\n",
       " ['U.S. workers without protective gear assisted coronavirus evacuees, HHS whistleblower says - The Washington Post '],\n",
       " ['PlayStation, EA, Microsoft, Epic Games, and More Cancel GDC Appearance over Coronavirus Fears - Niche Gamer '],\n",
       " ['Bahia tem 12 casos notificados com suspeita de coronavírus '],\n",
       " ['Las mascarillas contra el coronavirus también llegan a las firmas de lujo Louis Vuitton y Fendi han lanzado sus diseños en las últimas semanas. Todas las fotos en http://www.tendenciasfashionmagazine.com Diseño de @cherrymassia 2020 en Mercedes-Benz Fashion Week Madrid 2020 en Madrid'],\n",
       " ['UPDATED: Four cases of coronavirus confirmed in Switzerland The Local Switzerland '],\n",
       " ['Nao pra surtar com corona vírus não gente. Dengue, já rolou h1n1 e o caralho a 4. É só mais um vírus q mata quem pega ele estando fragilizado, assim como todos os outros vírus. É só tomar os devidos cuidados'],\n",
       " ['Acabei de receber 17 páginas sobre como me prevenir do Coronavírus no Wpp e vocês?'],\n",
       " ['Jesus Christ I can’t stop laughing at just the *idea* of Mr Bean having the coronavirus. When did this happen to my mind.'],\n",
       " ['Yeah there is no reports of coronavirus over der '],\n",
       " ['Trump is in a ‘fight-or-flight state’ over coronavirus: ‘Art of the Deal’ co-author - '],\n",
       " ['@coronavirus tu est le seul qui peut arrêter Liverpool'],\n",
       " ['(1) If Trump had a brain, he would bring back WH press briefings, starting tomorrow, to keep America up to speed with the coronavirus, and other things. If they did this, and told the truth, it might bring a sense of certainty. Could help the market.'],\n",
       " ['These Mike Bloomberg ads makes it sound like he is god doing all these things.. Mike Bloomberg creates 450K jobs He operated bulldozers at 911 He knit 150K sweaters for the poor Mike found a cure for CoronaVirus'],\n",
       " ['me when coronavirus '],\n",
       " ['Fico indignada ao ver as piadas que estão fazendo com essa doença (coronavírus), gente ACORDA, ela MATA, vamos nos conscientizar, temos família, filhos, amigos, todos nós estamos reféns... Pai tenha Misericórdia, desperta o teu povo '],\n",
       " ['Ich musste heute im Bus leicht husten. Ich wurde erst ungläubig angeschaut und dann entfernte man sich von mir. Danach hatte ich einen Sitzplatz und meine Ruhe. Da sag Mal einer, der #COVID2019 #CoronaVirus hätte nichts positives.'],\n",
       " [\"I wouldn't put it past Trump to have cut funding to the CDC & implemented no measures to combat Coronavirus in order for him &amp; his Big Pharma donors to make a profit off all of us to further the class divide killing millions destroying the USA. #TrumpVirus #Trump #coronavirusus\"],\n",
       " [\"I don't want to say this is a plot to gulp down the 300+ million allocated to combat Coronavirus but this report is all shades of fishy\"],\n",
       " ['De acá a que llegue el coronavirus ya nos vamos a morir todos por el dengue no jodan'],\n",
       " ['Coronavírus: Procon notifica empresas por falta de produtos https://ift.tt/3cjd2TQ'],\n",
       " ['Fight the Coronavirus by Defunding the United Nations https://canadafreepress.com/article/fight-the-coronavirus-by-defunding-the-united-nations'],\n",
       " ['vcs aí tudo brincando com o coronavírus e eu aqui com o cu na mão'],\n",
       " ['Wealth by design: What National Lampoons Vacation can do for corona virus. '],\n",
       " ['U.S. workers without protective gear assisted coronavirus evacuees, HHS whistleblower says '],\n",
       " ['FALA PARAÍBA: Novo boletim: paciente com suspeita de coronavírus... https://www.falaparaiba.com/2020/02/novo-boletim-paciente-com-suspeita-de.html?spref=tw'],\n",
       " [\"Damn, he is here in Sarasota, Florida at LBK fundraising for Vern. Shouldn't he be working on the public health scare #CoronaVirus\"],\n",
       " ['Coronavirus: Northern Ireland confirms first case of disease https://news.sky.com/story/coronavirus-northern-ireland-confirms-first-case-of-disease-11944791 #SmartNews'],\n",
       " ['tbh I\\'m surprised @McAfee hasn\\'t yet issued a press release offering \"free #antivirus updates for #IoT medical equipment associated with the novel Coronavirus\" '],\n",
       " ['Welcome back and I’ll include the way the Japanese “leadership has downplayed the spread of coronavirus.”'],\n",
       " ['El \"Broncolin\" listo para el Coronavirus. '],\n",
       " ['WRONG \"If you’re feeling (as I am) that it might be time to start buying some stocks that have been beaten down over the past week, now is the perfect time to sell puts.\" Coronavirus Causes a Volatility Spike. Time to Sell Options? | NASDAQ '],\n",
       " ['Papa Francisco cancelou seus compromissos por estar com um “leve mal estar”. É gente, se o coronavírus pegar o Chiquinho é sinal que o apocalipse vem! '],\n",
       " ['Una cosa para que visualices y te rías luego un rato,, Cuando he dicho si es así un coronavirus me dicen que si.... y digo, en cuanto que vea uno llamo al 112 Te imaginas llamando al 112 cada vez que ves un calvo me parto jajajajaajajajajajajaj'],\n",
       " ['We don’t have Corona virus , WE have Hindutva TERRORISTS. #Delhigenocide'],\n",
       " [\"They're worse than the coronavirus\"],\n",
       " ['Ahora también son el poder judicial estos ladrones de la patria,que pusieron muuuchos a dedo y se hacen los dolobu,hablame del coronavirus#Diputrucho'],\n",
       " ['\"Coronavirus: WHO Director-General says world is \\'at a decisive point\\'\" '],\n",
       " ['suspeita de coronavírus em Divinópolis meu Deus do céu que medo'],\n",
       " ['#27Feb Delcy Rodríguez, experta en aeropuertos, estará al frente del plan de Venezuela contra el coronavirus. Y Maduro valida la tesis de que se trata de una \"guerra biológica contra China\". \"Hay suficiente evidencia\" - @fsingerf'],\n",
       " ['Le coronavirus a esquivé l’inde ?'],\n",
       " ['Would I be exaggerating if I told you she might have the coronavirus?'],\n",
       " ['El nerviosismo mediático en Argentina se desata por el coronavirus, ¿pero por qué no se habla de dengue y sarampión? '],\n",
       " [\"The number of flu deaths so far this year, doubles coronavirus deaths. So, a local doctor says you should be prepared, not scared. And if you're healthy, don't panic. \"],\n",
       " ['AP FACT CHECK: Democrats distort coronavirus readiness '],\n",
       " ['Caralho tô quentona e com moleza Meus amigos: coronavirus Eu: '],\n",
       " ['coronavírus já ta em Varginha... adeus'],\n",
       " ['Coronavirus: Dog of Hong Kong patient tests ‘weak positive’ for virus https://www.scmp.com/news/hong-kong/health-environment/article/3052775/coronavirus-dog-hong-kong-covid-19-patient-tests via @scmpnews'],\n",
       " ['#surveillance #health #digital #app #COVID19 #coronavirus '],\n",
       " ['The Trump regime is do utterly and horrifically unprepared for #coronavirus '],\n",
       " ['DISPARADA DO DÓLAR É UM CORONAVÍRUS PARA O CONSUMO http://souchocolateenaodesisto.blogspot.com/2020/02/disparada-do-dolar-e-um-coronavirus.html#.XlhX2p4at2E.twitter'],\n",
       " ['Ill passenger removed from plane at Winnipeg airport with possible case of novel coronavirus | http://Globalnews.ca'],\n",
       " ['And we are all dreaming of getting corona virus'],\n",
       " ['Kissing booth pero peor y más aburrida, tiene el dlc del coronavirus por si quieres y pues, al webon ese que sale en todo lo malo de netflix'],\n",
       " ['HHS whistleblower says workers without protection or training assisted coronavirus evacuees on US military bases - The Washington Post '],\n",
       " [\"oh you don't have coronavirus? it's the craze rn\"],\n",
       " ['Tava aqui pensando... A gente pega ônibus, pega no celular, pega na roupa, cabelo, passa a mão na blusa, coca o olho, espirra e só chegando em casa e lavando as maos já previne do corona vírus? #impossible'],\n",
       " ['vi um negócio de corona vírus aí passei o olho e li doença crônica pensei logo: hm vou morrer'],\n",
       " ['Fuck the corona virus and fuck the government for their terrible handling of it'],\n",
       " ['Goldman sees zero earnings growth for US companies this year because of coronavirus '],\n",
       " ['In the wake of the coronavirus outbreak, major companies including Sony, Amazon, LG, Ericsson, and Nvidia have withdrawn their attendance to major conferences were technology is celebrated @DakinMarketing'],\n",
       " ['Jack Posobiec is tweeting a meme about \"coronavirus propaganda\" and \"globalists.\" Totally on brand.'],\n",
       " ['With coronavirus hysteria out there? '],\n",
       " ['São Paulo segue agindo com extrema responsabilidade e rapidez para enfrentar o coronavírus. Estado anunciou, nesta quinta (27), a antecipação da campanha de vacinação contra a gripe. Importante ação para reduzir o risco de contaminação nos próximos meses. #coronavirusnobrasil'],\n",
       " ['povo acha que o coronavírus é igual certas pessoas, pegou morreu'],\n",
       " ['Una farmacia Serca de mi casa gente haciendo fila para una mascarilla del #coronavirus #coronavirusjapon #japon'],\n",
       " ['Verified. The Corona Virus has been introduced to the USA and crowned itself king. God help us '],\n",
       " ['#coronaviruscolombia #estadoDeAlerta y el coronavirus llegó, dejando ver el débil menton de todos los @BarbadosCol , @ColombiaSimpson'],\n",
       " ['Ok Coronavirus chegando e eu só tenho uma coisa a dizer Quem beijou beijou Quem não beijou vem que tem Vamo tudo morrer mesmo'],\n",
       " ['quando o nico jogava pelo Inter não tinha esse tal de coronavírus '],\n",
       " ['cuidado con el coronavirus, monilla.'],\n",
       " ['Estoy en el peluquero y el hombre que se está pelando antes que yo dice que el Brexit y el corona virus es una especie de \"conspiración\" y plan ideado por USA. '],\n",
       " ['なんか一見ジワる光景やけど、 これぐらい徹底して予防対策してるってことかな？ #コロナウイルス #Coronavirus #政府対応 #安倍晋三'],\n",
       " ['eu enquanto gay casado com um italiano me sinto extremamente vitimizada pelas piadas com corona vírus italiano'],\n",
       " ['Coronavirus: California Monitoring over 8,400 People https://www.breitbart.com/politics/2020/02/27/coronavirus-california-monitoring-over-8400-people/ #RecallOpenBordersGavinNewsom'],\n",
       " [\"@NomadicHustler @QuintusCurtius @boxingfanaticNY People ask if I'm worried about the 'coronavirus.' I say 'No' because it's dumb worrying about things I can't control. What I do worry about are 'guys' wanting to veer into a dude named 'Russ' and have a Corona with him. Cris \"],\n",
       " ['The mortality rate of corona virus is above 15% for anyone aged 80+, and the thought that half the parliament could get wiped away has never felt so real.'],\n",
       " ['AP Confirms: Democrats Are Lying to the Public About Coronavirus Readiness http://bit.ly/2wdqk3m via @BreitbartNews'],\n",
       " ['Coronavirus breakthrough? Israeli researchers make discovery that could lead to vaccine '],\n",
       " ['só espero q n seja corona vírus rs'],\n",
       " ['Coronavirus: caso sospetto a San Severo, in corso controlli #teleAppula #Notizie #Puglia #Basilicata #Bari #Bat #Brindisi #Foggia #Lecce #Taranto #Matera #Potenza anche in #audio'],\n",
       " ['Bullshit! You spied on the Dems. Going to tout the STOCK MARKET today? Boy is it smoking! And his stuff! And Pence will fold when the coronavirus (not to be confused with your spelling...Caronavirus) hits the USA hard (God forbid). SAD!!!'],\n",
       " ['En todo lo que este involucrado este zurdo @stalin_gonzalez es trampa y es guiso, cuidado y no lo agarra el coronavirus criollo. '],\n",
       " ['AP Confirms: Democrats Are Lying to the Public About Coronavirus Readiness https://www.breitbart.com/health/2020/02/27/ap-confirms-democrats-are-lying-to-the-public-about-coronavirus/'],\n",
       " ['Tryna plan a lavish vacation for our anniversary but Coronavirus is making that really difficult '],\n",
       " ['Podcasters if you havent already please feel free to check out The New Religion Podcasts every Tuesday at 1pm | Ep. 11 https://youtu.be/PLwmc0b-TYY #COVID19US #CoronaVirusUpdates #coronavirus'],\n",
       " ['#Bassignana #PCProvAl #Alessandria #Valenza #CasaleMonferrato #Piemonte Assenze, gite,... Le risposte @MiurSocial alle #domande più frequenti su come affrontare il #coronavirus a #scuola http://bit.ly/faqMUR #covid19 #covid19italia #coronavirusitalia https://twitter.com/MinisteroSalute/status/1233081907291869184'],\n",
       " ['Letters to the Editor: Mike Pence, Trump’s coronavirus czar, has a terrible public health record https://flip.it/0n2hCW via @flipboard'],\n",
       " ['Coronavirus: la posible “transmisión comunitaria”, en el punto de mira http://twib.in/l/xxXKM7gnAzn4 via @diariomedico #genetica'],\n",
       " ['Worried about coronavirus? Stop touching your face. https://mashable.com/article/coronavirus-touching-your-face/ #tech #news #smallbiz'],\n",
       " ['School fight | Weekend events | Former mayor ordered to prison | Nearly $13M home listed | MS-13 members sentenced | Coronavirus briefing. '],\n",
       " ['Y el doctor al ver probable caso del coronavirus mejor se fue, como ya sabe que ni paracetamol tiene en farmacias, dijo: \"patas pa\\'que las quiero\" '],\n",
       " ['me making jokes about the coronavirus even though I’m gettin’ real nervy '],\n",
       " ['Polonia es invadida nuevamente, esta vez por el coronavirus '],\n",
       " ['Ons land is al niet wit meer. Tilburg coronavirus'],\n",
       " ['I enrolled in the #OpenWHO course Infection Prevention and Control (IPC) for Novel Coronavirus (COVID-19) '],\n",
       " ['CORONAVIRUS: TOUCHE CHINIA! '],\n",
       " ['Ser da área da saúde é fd, já estou morrendo de medo desse surto de coronavirus '],\n",
       " ['Mano, como vocês ainda criticam o Bolsonaro Ele desvalorizou a moeda brasileira para não viajarmos para o exterior e infectar-nos com o corona vírus. Ainda, com tal medida, passamos a viajar para as praias brasileiras e contribuímos para o país #BolsonaroSalvouOBrasil '],\n",
       " ['tove fraturou o pé e fez todos os shows, o que é o coronavírus pra grelo duro'],\n",
       " ['caralho eu to c medo real do coronavírus'],\n",
       " ['https://www.instagram.com/tv/B9FB3iliUZO/?igshid=zdrqfzv64241. Carne cruda (video) y el coronavirus'],\n",
       " ['A tendência é de que o dólar continue subindo. Balança comercial deficitária (em parte efeito do corona vírus), Selic baixa com inflação abaixo da meta e cenário político cada vez mais deteriorado. O preço da câmera não deve baixar nem tão cedo...'],\n",
       " ['América Latina não tem meios para isolar casos de coronavírus, alerta virologista do Instituto Pasteur http://rfi.my/5SE2.T via @RFI_Br'],\n",
       " ['How Disease X, the epidemic-in-waiting, erupted in China via @SCMPgraphics https://sc.mp/coronavirus #COVID19 #coronavirus #wuhan'],\n",
       " ['MAINLAND CHINA REPORTS 44 NEW CORONAVIRUS DEATHS ON FEB 27 VS 29 ON FEB 26'],\n",
       " ['Stellen dir vor, du überstehst den gesamten Crypto Bärenmarkt, nur um dann am Coronavirus zu sterben.... Irgendwie semi gut'],\n",
       " ['minha mae ta morrendo de medo do corona virus'],\n",
       " [\"@DNC's audacity, politicizing #Coronavirus while inoculated to their own lack of self-awareness - advocating porous borders &amp; fighting against the border wall - is like shooting at your enemy by aiming through your own skull. #Idiots @realDonaldTrump @senatemajldr @seanhannity\"],\n",
       " ['#Republicans #Trump #Trump2020 #MAGA #MAGA2020 #KAG #KAG2020 #KAG2020LandslideVictory #coronavirus #CoronaVirusUpdates #CoronavirusOutbreak #coronavirusus #Coronavirustruth #COVID19US'],\n",
       " ['Trump’s coronavirus press conference performance yesterday reminded me of Larry Vaughn, the scummy mayor of Amity Island from the film “Jaws,\" who put tourist dollars ahead of public safety. . .Trump\\'s a modern Pontius Pilate, washing his hands of the whole thing.'],\n",
       " ['Because a panic over the Coronavirus is just what Democrats want, as long as it helps them? They must save their party from the disaster unfolding (ie. the Fall of France). This is their big chance!'],\n",
       " [\"Why wouldn't you take the leftover money from ebola & use it towards the #Coronavirus?\"],\n",
       " ['Ill passenger removed from plane at Winnipeg airport with possible case of novel coronavirus | http://Globalnews.ca'],\n",
       " ['Vamos menas cancelar o Corona vírus e resolver isso. '],\n",
       " ['Syracuse University readies for #coronavirus, tells sick students to stay home '],\n",
       " ['Pence addresses coronavirus at CPAC: This is not the time for partisanship https://youtu.be/xrPStjk2Ic8 via @YouTube'],\n",
       " [\"Democrats: Trumps coronavirus travel policy is racist also Democrats: trump isn't doing enough. we should handle it like ebola also Democrats: we didn't spend any of the ebola money also Democrats: stop fear mongering over ebola\"],\n",
       " ['Maybe we should open a corona virus center in Syria and let it work itself out.'],\n",
       " ['I got over a case of coronavirus back in 2002 when I had my first IPA.'],\n",
       " ['I agree my wording was off but still corona virus is a joke now gtfo'],\n",
       " [\"Med/healthcare professionals & officials ordered to clear statements thru Pence. Where is the transparency, information flow, & Freedom of Speech - the basis of criticisms of #China's handling of the #coronavirus #COVID19 response? #CoronaVirusUpdates\"],\n",
       " ['My son just text me he’s having a meeting on the Coronavirus! It’s real and the locusts are coming. Biblical prophecy is here!'],\n",
       " ['yo me río del coronavirus pero estoy traumada nivel lavarme las manos a cada rato'],\n",
       " ['Coronavirus may be housing headwind: Economist https://ift.tt/39b8r3W Matthew Graham'],\n",
       " ['raise your hand if even once it crossed your mind to hope he somehow catches coronavirus and because of his diseased corpulent condition it finishes him'],\n",
       " [\"Officials have also stockpiled ventilators, a necessity for severe cases of this coronavirus, which causes high fever and respiratory problems. ANYTHING A STATE GOVERNMENT WOULD HAVE STORES IS OUTDATED TRASH, DECADES OLD, LIKE OLD WWII MRE'S!\"],\n",
       " ['#BREAKING China reports 327 new #coronavirus cases.. so you’re telling me there are almost more confirmed cases in Europe in one day then ALL of China ..hmm #COVID19'],\n",
       " ['aqui o coronavirus sai doente'],\n",
       " ['Coronavirus actually has me wiping down my machines at the gym smh'],\n",
       " ['The flu has killed more people in the USA than the Coronavirus has killed world wide.'],\n",
       " ['Por conta do novo CORONAVÍRUS, a campanha nacional de vacinação contra a gripe será antecipada para 23 de março. _ A afirmação foi feita hoje pelo ministro da Saúde Luiz Henrique Mandetta na tarde desta… https://www.instagram.com/p/B9FvHm-luup/?igshid=6543adq7zw32'],\n",
       " ['Com toda tecnologia médica que a gente tem hoje, nós temos medo do coronavírus. Imagina as pessoas na idade média lidando com a peste sem saber NADA.'],\n",
       " ['neta no entienden que no entienden el coronavirus de que va llegar va a llegar por un lado o por otro, aqui es cuestion de tomar medidas preventivas y revizar a cada uno de los turistas que desembarquen , osea que esten libre del virus , y ya'],\n",
       " [' @Reading \"Pence Will Control All Coronavirus Messaging From Health Officials\" http://ing.am/p/5htz'],\n",
       " ['Facebook cancels F8 conference, citing coronavirus concerns '],\n",
       " ['Papai do céu, não deixa o corona virus me matar antes de eu ficar rica, tatuada e viajar o mundo todo. É muita injustiça.'],\n",
       " [\"China's Hubei Province, Epicentre Of Coronavirus Outbreak, Reports 318 New Cases On Feb 27 Vs 409 On Feb 26 China's Hubei Province, Epicentre Of Coronavirus Outbreak, Reports 41 New Deaths On Feb 27 Vs 26 On Feb 26\"],\n",
       " ['Dos cosas se confirmaron Uno, que no había enfermos de Coronavirus Dos, que el espíritu conservador es este: el miedo te hace ser ojete. '],\n",
       " ['MAINLAND CHINA REPORTS 44 NEW CORONAVIRUS DEATHS ON FEB 27 VS 29 ON FEB 26'],\n",
       " ['#Ahora | Pdte.@NicolasMaduro “Hoy se instaló la Comisión Presidencial para atender el tema del Coronavirus\". #YoSoyDeAqui https://twitter.com/PresidencialVen/status/1233178358957117442/photo/1'],\n",
       " ['Quem depender de hospital público tá lascado, os médicos nem tocam nos pacientes na hora de examinar imagina com esse coronavírus'],\n",
       " ['Nada que el Coronavirus no pueda arreglar '],\n",
       " ['Si ustedes fueran #coronavirus y se consiguen de frente a Delcy Elimina que hacen?'],\n",
       " ['Algo me dice que con lo del buque y el corona virus, desatarán una enorme campaña justo en los días 8 y 9, para tratar de opacar la marcha y el para nacional, ya que a pesar de todo lo que han hecho, no pudieron evitarlo. Así es este gobierno, pero no les resultará.'],\n",
       " ['TCC > Coronavírus se bem que no momento estou fingindo que nenhum existe '],\n",
       " ['Ninguém quis saber do corona vírus no carnaval, agora estão preocupados com a manifestação. Só foi passar o Carnaval e o número de suspeitos com a doença Quadruplicou. Será que eles estavam de ressaca?'],\n",
       " ['I thought I had seen it all in terms of excuses to text me from ex boyfriends but CONCERN ABOUT ME CATCHING THE CORONAVIRUS TAKES THE CAKE'],\n",
       " [\"So I assumed the worst wrt how this administration would handle coronavirus, but Jesus, even I didn't imagine that our govt would literally cause the initial outbreak of the virus in the US. Un fucking real.\"],\n",
       " [\"#Coronavirus: #WHO Director-General says world is 'at a decisive point'\"],\n",
       " [\"The New Yorker pretty much captures Donald Trump's approach to the Coronavirus pandemic. \"],\n",
       " ['Does anyone know if or how long the coronavirus stays alive on paper money?'],\n",
       " ['I WAS SO YOUNG Dammit Coronavirus '],\n",
       " ['FORTALECIDO PELO CORONAVÍRUS, PRECONCEITO CONTRA OS CHINESES TEM LONGA HISTÓRIA http://souchocolateenaodesisto.blogspot.com/2020/02/fortalecido-pelo-coronavirus.html#.XlhXzkOns9I.twitter'],\n",
       " ['#Japan Finmin #Aso says watching impact of #coronavirus.: Keeping ready but no need to compile extra budget right now.Vital to make use o... '],\n",
       " ['Coronavírus '],\n",
       " ['tomara que essa mula pegue coronavirus'],\n",
       " ['Well gunnery might be cancelled bc of the Coronavirus, never been so happy about a pandemic before '],\n",
       " ['Esse povo desesperado por causa do corona vírus. Esqueceu que a dengue mata bem mais no Brasil do que esse vírus matou no mundo todo. Eu fico absurdamente chocada como sempre dão mais \"valor\" pras coisas gringas. Acooooorda kct '],\n",
       " ['Coronavirus oproti tomu alkoholu co požívám prostě nemá šanci'],\n",
       " ['Updated definitions: Coronavirus Disease 2019 (COVID-19) https://www.cdc.gov/coronavirus/2019-ncov/hcp/clinical-criteria.html via @@CDCgov'],\n",
       " ['Coronavirus homeopathic potions – here comes the quackery and woo https://www.skepticalraptor.com/skepticalraptorblog.php/coronavirus-homeopathic-potions-here-comes-the-quackery-and-woo/'],\n",
       " ['A glass of OJ a day keeps the Coronavirus away'],\n",
       " ['¿Las mascotas pueden contraer y contagiar el coronavirus? https://www.abc.es/sociedad/mascotas/abci-mascotas-pueden-contraer-y-contagiar-coronavirus-202002262024_noticia.html#vca=rrss-inducido&amp;vmc=abc-es&amp;vso=tw&amp;vli=noticia-video a través de @ABC_Conocer'],\n",
       " ['Como assim 3 casos de corona vírus em gayânia? '],\n",
       " ['e vamos de coronavirus'],\n",
       " ['aqui sofrendo por antecipação imaginando o socorrão cheio de coronavírus, vai ser lindo!'],\n",
       " ['#monkswalk @MonksWalkSch 5 students have been suspected for the coronavirus in the school. This information has been hidden from students and the press. We would like to know the reason for this. What actions will be taken if these are confirmed. #coronavirus'],\n",
       " ['So how could “response to coronavirus was set in stone long before anyone had ever even heard of coronavirus.”.... YOU my friend are Gullible! Check some reliable sources and stop just listening to Trump. It’s not about Democrat or Republican it’s about AMERICA!!!'],\n",
       " ['Wisconsin police warn recently bought meth may contain ‘Corona Virus,’ offer to test it for free '],\n",
       " ['Health officials give update to coronavirus response in Washington state '],\n",
       " ['I wonder if he could have the Coronavirus?? '],\n",
       " [\"Coronavirus has 20 times the mortality rate of the usual cold/flu virus - if you don't have a full grasp of the facts, it's better to sit dow and keep quiet. Moron.\"],\n",
       " ['Coronavirus spreading to more countries globally, with the Netherlands, Estonia and Denmar @AJEnglish https://aje.io/2wy7z'],\n",
       " ['Hey man, help get the word out! Kill 3 birds with one stone! http://Cytodyn.com has what looks to be the safest possible Cancer Cure, Corona Virus Treatment, and HIV treatment ever to be developed! This already has 840 patients on it and 0 side effects!'],\n",
       " ['Sentido figurado. Estamos feos para la foto, con el Coronavirus . «Ahí viene el fotógrafo» Ahí viene lo malo y no estamos listos. Es a eso que me refiero '],\n",
       " [\"California Governor Says State 'Monitoring' 8,400 For Coronavirus; 33 Have Tested Positive; In New York, 700 Asked To 'Self-Isolate' https://www.zerohedge.com/geopolitical/japans-abe-closes-schools-nationwide-south-korea-confirms-505-new-cases-surpassing #BreakingNews #Coronavirus #CoronavirusOutbreak #COVID19 #COVID #COVID_19 #Collapse #USA #California\"],\n",
       " ['No se preocupen por lo del coronavirus tranquilos ! !! Ya que la semana pasada, subieron unos chinos a el avión presidencial y todo esta perfecto! !!'],\n",
       " ['Jajaja Será Coronavirus? '],\n",
       " ['Could beards be BANNED in NHS? Hospital tells staff to shave or stick to pencil-type moustache in bid to stop coronavirus outbreak '],\n",
       " ['bon premier corona virus au quebec attentte de confirmation! ...'],\n",
       " ['italy milan fl kpop gc promo nsfw shindong #gfvip loyal list loyalies shawn mendes smut 18+ feet gg stans ariana grande stray kids furry hot follow trick benji e fede jhope fancam views corona virus football rt for ffs au like kpop gc promo nsfw ifb. gain '],\n",
       " [\"I don't know why everyone is so nervous about Corona virus... Mike Pence is on it! He's gonna pray or way out of it...we all set \"],\n",
       " [\"CDC says Americans need to prepare for coronavirus now — here's what you can do. \"],\n",
       " ['Coronavirus to every country: '],\n",
       " ['The event should be canceled in the interest of public health. Numerous other events are being canceled daily due to #coronavirus, not sure why @HIMSS continues to cite irrelevant registration stats as justification for pushing forward...'],\n",
       " ['o em tempo noticiou que havia amazonenses no voo que trouxe o infectado de covid-19 da itália. estão em quarentena. se o coronavirus chegar mesmo no amazonas, nossos ótimos médicos do sus vão sempre acertar o diagnóstico avisando que é virose*. e o tratamento sempre funciona'],\n",
       " ['Just declare America a “coronavirus free zone”. Making schools gun free zones is working so well to keep our kids safe. @MSNBC @NBCNews @CNN @FoxNews 2020 Democrats reveal how they would address the coronavirus outbreak '],\n",
       " ['First Corona Virus case In Lagos '],\n",
       " ['As countries across Asia and Europe continue to report new coronavirus cases, and more than four dozen cases are logged in the United States, Maryland officials say they are preparing for what might come. '],\n",
       " ['Strategists say Canada’s economic exposure to coronavirus \"is largely limited to lower energy prices &amp; reduced travel...\" Negative economic fallout will just add to already soft growth putting Bank of Canada in position to cut policy rate by midyear” https://www.theglobeandmail.com/investing/markets/inside-the-market/article-frenzied-trading-sends-sp-500-into-correction-territory-and-halts/ #yyj'],\n",
       " ['Tinha que ser um burguês safado pra trazer o corona vírus pra cá. Afinal, só burguês safado viaja pra Itália'],\n",
       " ['Singapore with low infections rate claims first use of antibody test to track coronavirus '],\n",
       " ['On @ABCNewsLive, we have more after the Dow Jones Industrial Average plummeted 1,190 points as economic uncertainty over the spread of the novel coronavirus continued to rattle markets. WATCH LIVE: '],\n",
       " ['Acabo de leer a alguien que literal dijo que nos vamos a morir todos por el coronavirus'],\n",
       " ['Watch \"The Symbolism of How the Coronavirus Can Infect on the Societal Level | Jonathan Pageau\" on YouTube '],\n",
       " ['The corona virus has made it’s way to Davis stay safe y’all '],\n",
       " ['Tipo de cambio se dispara a S/ 3.43, el máximo en cuatro años por temores sobre coronavirus https://gestion.pe/economia/mercados/tipo-de-cambio-dolar-tipo-de-cambio-se-dispara-dolar-sube-a-s-343-a-media-manana-noticia/ vía @Gestionpe'],\n",
       " [\"And I believe he is plotting a way to declare an emergency and cancel the election. That's his only interest in the coronavirus. Could care less about the country.\"],\n",
       " ['amiga mas esse tweet tava falando do coronavirus e não de macho KKKKKKKK mas vc me fez lembrar dele '],\n",
       " ['3 cas de Coronavirus suspectés en Guadeloupe. Bientôt les guadeloupéens vont se ruer dans les supermarchés jusqu’à pénurie comme à leur habitude pour rester confinés chez eux... '],\n",
       " ['Heineken de cure coronavirus mafo'],\n",
       " ['24 hours since your crazy uninformative press conference and not a damn word about the Coronavirus. What a pathetic excuse for a leader. '],\n",
       " ['Italian airports checking for #CoronaVirus '],\n",
       " ['More dangerous than the #Coronavirus is #Trumpvirus ... take note @realdonaldtrump .... you need to isolate yourself'],\n",
       " ['https://0291.com.ar/ex-gran-hermano-con-una-broma-de-mal-gusto-sobre-el-coronavirus/ #GranHermano #coronavirus #CoronaVirusUpdates'],\n",
       " ['A mi ya se me hizo bien sospechoso que en México no hay casos de coronavirus jajaja, los contagiados han de pensar que se enfermaron bien gacho de gripa y se andan tomando un next'],\n",
       " ['Fear the #coronavirus is turning into a pandemic prompted the worst point-drop for the Dow in history as stocks crumbled 4 percent. #Covid19 #chinesecoronavirus https://reut.rs/3coONUe'],\n",
       " ['Lancaster County college campus takes steps to prepare for possible spread of coronavirus '],\n",
       " ['This study predicted a coronavirus outbreak one year ago '],\n",
       " ['Coronavirus pushes Trump to rely on experts he has long maligned '],\n",
       " ['Coronavirus, tienes hasta agosto para desaparecer.'],\n",
       " ['viada ce vai pega corona virus'],\n",
       " ['Muy seguramente los primeros casos y subsecuentes de coronavirus en México llegaran a infecto o a neumo de La Raza y les haremos los controles por imagen ... así que les pido de favor un rosario con todo y letanía por mi ....'],\n",
       " ['Gobernador Banco de México dice peso fuerte puede cambiar por coronavirus http://dlvr.it/RQtdyY'],\n",
       " ['Coronavírus chegou no Brasil, mas já já ele vai embora, quando ver como o Brasil trata mal os gringos.'],\n",
       " ['Coronavirus Covid-19 - réunion d’information du 26/02/2020 aux personne... https://youtu.be/k5I5mxrJJBU via @YouTube'],\n",
       " ['Tô animada para a volta às aulas vai ser incrível a universidade cheia de gente de todo canto bem vindo coronavírus '],\n",
       " ['A ver, a ver.... NADIE quiere una epidemia de coronavirus en México. NADIE. No es tema que la oposición busque tragedias. NO. El tema es que el gobierno tome medidas responsables y pertinentes, cosa que NO ESTÁ HACIENDO.'],\n",
       " ['Bolsa perde 9,4% em dois dias com coronavírus; saiba o que fazer com seus investimentos https://painelrioverde.wordpress.com/2020/02/27/bolsa-perde-94-em-dois-dias-com-coronavirus-saiba-o-que-fazer-com-seus-investimentos/'],\n",
       " ['La OMS reporta 82.294 casos confirmados de coronavirus en el mundo '],\n",
       " ['#angievelascoisoverparty casi todos los youtubers son una plaga como el coronavirus '],\n",
       " ['20lucas por hacer el examen de coronavirus en chile, y china construyó un hospital en menos de una semana para resguardar la salud de su población ...quieren seguir metiéndonos el pico en el ojo estos giles y aún así dicen que tenemos el mejor sistema de salud del planeta xd '],\n",
       " ['Saudi Arabia suspends entry for pilgrims over #coronavirus https://news.yahoo.com/saudi-arabia-suspends-entry-pilgrims-over-coronavirus-010910478.html?soc_src=community&amp;soc_trk=tw via @Yahoo #COVID19 #ksa #Covid_19'],\n",
       " ['Mapping Coronavirus, Responsibly http://bit.ly/396kGP9 (http://bit.ly/32vG11W)'],\n",
       " [\"Multiple killings in Chicago can't be pinned on Trump. They think his handling of the coronavirus, (which by the way, has been appropriate) can be weaponized to the dems/media advantage. Basically, it's this week's Stormy Daniels.\"],\n",
       " ['AP Confirms: Democrats Are Lying to the Public About Coronavirus Readiness '],\n",
       " ['Confirman primer caso de coronavirus en el fútbol italiano https://buff.ly/2wO79gR'],\n",
       " ['If the Coronavirus spreads to the Dail voting buttons , it could cause a Pandemic #NiallCollins #FiannaFail #FineGael #TonightVMTV'],\n",
       " ['\\'Daddy, please tell us the fairytale on how the GOP didn\\'t politicize the coronavirus during Hillary Clinton\\'s presidency\" That\\'s what it would be. A fairytale.'],\n",
       " ['Minha mãe culpando o bolsonaro pelo corona virus ter chegado no brasil agahahaha'],\n",
       " ['Essa parada de coronavírus tá surreal'],\n",
       " ['25 casos confirmados por coronavirus en España http://dlvr.it/RQtdtY'],\n",
       " ['Já compraram sua LL para se prevenir do Coronavírus!? Quem ainda não comprou só chamar na DM!'],\n",
       " ['Menos tomando en cuenta que no se han presentado casos de coronavirus en Panamá, también tomando en cuenta la baja incidencia de contagio en niños.'],\n",
       " ['Restaurants in downtown Chinatown struggle with drop in number of customers due to coronavirus fears '],\n",
       " ['OH YEAH, Because Hispanic people who are dying of coronavirus have NO PROBLEM crossing miles upon miles of desert and outrunning border patrol, just so they can come and get Americans sick FFS'],\n",
       " ['Confirman que dieron negativos los casos de coronavirus que estaban en análisis en el país '],\n",
       " ['en el dado caso de que el coronavirus llegue a Nuevo León, solamente contamos con 250 trajes especiales para personal médico los cuales se tienen que repartir entre TODOS los hospitales en Nuevo León plot twist: al menos en Nuevo León, no estamos preparados'],\n",
       " ['Coronavirus: FEI in touch with Olympic organisers after Asian horse events cancelled http://dlvr.it/RQtdtn'],\n",
       " ['Wall Street cae por 6to día ante propagación coronavirus; crudo en bear market http://dlvr.it/RQtdtX'],\n",
       " ['Leave Coronavirus ALONE. She just vibin. She kinda sick tho.'],\n",
       " ['Israeli scientists In three weeks we will have http://www.tiradecontacto.net/yasepuedemataractores.html #coronavirus #covid19 http://photocontact.blogspot.com.es/2014/01/dejen-paso-al-hombre-obediente-de.html vaccine Jpost'],\n",
       " [\"The CDC has expanded their testing criteria to include recent travel to Iran, Italy, Japan and South Korea. There are no confirmed cases of coronavirus in NYC but we do currently have one potential case under investigation. We'll report those results as soon as we have them. \"],\n",
       " ['I see you your conspiracy and I raise: Coronavirus was created in a lab with the support of global governments in order to kill off old people to prevent their economies from collapsing due to pension entitlements.'],\n",
       " ['O ódio do Bruno tá se espalhando mais que corona vírus kkkkkkkkkkkkk'],\n",
       " ['I thought I had the coronavirus, turns out it was just aids god is good '],\n",
       " [\"#NEWSCAST coronavirus Media hype has blown it into something that it's not\"],\n",
       " ['Whistle-Blower Reports on U.S. Health Workers Response to Coronavirus Outbreak '],\n",
       " ['\"Coronavirus: WHO Director-General says world is \\'at a decisive point\\'\" '],\n",
       " ['Infecciones por coronavirus: MedlinePlus en español https://medlineplus.gov/spanish/coronavirusinfections.html?utm_source=twitter&amp;utm_medium=share&amp;utm_campaign=mplus_share'],\n",
       " ['Brace yourselves, Coronavirus outbreak about to hit US mainland | SOFREP '],\n",
       " [\"Si le coronavirus est vraiment rendu à Verdun, est-ce que les parents chinois vont pouvoir demander qu'on retire les enfants originaire de Verdun des écoles?\"],\n",
       " ['Chattanooga is the nerve center for a company tracking the coronavirus and its effects on the paths and plans of ships at sea. '],\n",
       " ['.@DrJohnTorres explains some steps you can take to protect yourself against the new #coronavirus. http://nbcnews.com/NOW'],\n",
       " ['#FOX7Austin at 6pm : @BridgetonFOX7 with latest on state-sanctioned #homeless camp : @utsystem board approves funding for West Campus safety : @jenniferonFOX7 on Texas #coronavirus plans : @KoskionFOX7 on funding for I-35 overhaul WATCH NOW:'],\n",
       " ['Corona...corona....corona....corona.....Virus'],\n",
       " ['That is it for another week! Thank you for joining us and I look forward to seeing you back again - same time, same place next week! Stay safe if you are in a #coronavirus effected country #whatisschool'],\n",
       " ['coronavirus puro tongo las farmacias deben estar sobándose las manos, con tamaña mentira.. ud debería de saber que todo esto es una vil mentira'],\n",
       " [\"If coronavirus spreads within the US, here's how daily life might change \"],\n",
       " [\"Jimmy Kimmel mocks Pence's ability to tackle coronavirus: 'What's his plan, abstinence?' https://fxn.ws/2PsDVuI #FoxNews What a absolute arrogant DOPE.\"],\n",
       " ['Woman catches coronavirus twice confirming scientists’ worst fears '],\n",
       " ['Can’t sleep. Might have coronavirus.'],\n",
       " ['Gli Stati Uniti e il #CoronaVirus “under control”. La copertina di Brian #Stauffer sul @NewYorker'],\n",
       " ['Real tengo coronavirus alv'],\n",
       " ['In fact, the coronavirus is an existential threat to the two best cuisines in the world: Chinese and Italian. Thaliland and France must be in its crosshairs!'],\n",
       " ['When you realize coronavirus gets closer from your house every day '],\n",
       " ['AP fact checks Dems on coronavirus and comes to a shocking conclusion '],\n",
       " ['https://www.hessenschau.de/panorama/erster-corona-fall-in-hessen-bestaetigt,erster-coronafall-100.html #coronavirus #Coronavirusdeutschland'],\n",
       " ['Coronavirus não é nada perto da minha dor nas costas vtmmc'],\n",
       " ['Recordatorio de que tienen más probabilidades de que los mate el crimen organizado qué el pinche Coronavirus... Aún así mantengan sus precauciones como lavarse las manos, limpiar superficies de uso común y llevar chaleco antibalas.'],\n",
       " ['Has portado el coronavirus desde madriz'],\n",
       " ['Caxiense tem q se fude mesmo, os cara foram pra ITÁLIA buscar essa porra de coronavirus mano kskskdkskeksjd'],\n",
       " [\"If you're okay with this then i am too. Factory that makes iphones offers a month's salary cash bonus to Chinese workers to work during coronavirus. https://www.scmp.com/tech/big-tech/article/3052124/foxconn-reportedly-dangles-us1000-bonus-new-workers-it-resumes\"],\n",
       " ['falei pra mamãe na zoeira que ia começar a usar máscara em Belém por causa do corona vírus já que chegou no Brasil com td mas depois lembrei que belem é um possível local alvo já que temos voos internacionais belem-Europa e outros países por Belem-Manaus-Destino'],\n",
       " ['El Coronavirus Versión mutación alienígena '],\n",
       " ['Precisamos estar atentos quanto ao coronavírus no futebol brasileiro e gaúcho. No RS, pelo menos sete cidades têm casos suspeitos com 19 pessoas isoladas dentro de casa. Não podemos fingir que nada está acontecendo ou que a merda não acontece com a gente.'],\n",
       " ['they postponed it probably bc of corona virus that doesn’t mean they’ll push forward *** cb if anything now y’all have to wait longer now so shut your mouths and sit down'],\n",
       " ['Facebook Bans ‘Misleading’ Coronavirus Ads '],\n",
       " ['La Itzulia entre el vertedero de Zaldibar y el Coronavirus... Por cierto muy fan de lo de \"algunos de los mejores del mundo como Froome, Valverde o Gaviria\" '],\n",
       " ['#Coronavirus #COVID19 Lo que decía hace 1 mes hoy es portada de @TheEconomist https://twitter.com/Finanzas_Times/status/1223479079124512770'],\n",
       " ['Coronavirus do’s and don’ts: What you need to know to protect your family https://www.today.com/video/coronavirus-do-s-and-don-ts-what-you-need-to-know-to-protect-your-family-79524421938 via @TODAYshow'],\n",
       " ['Todo mundo preocupado com o coronavírus mas e a dengue? Aqui em fw já tem 3 casos confirmados Bora comprar repelente piazada'],\n",
       " ['\"a coronavirus é um guna\" ai o que ahahahah '],\n",
       " ['Me estás hueveando que el examen para detectar el coronavirus costará 20 lucas??? '],\n",
       " ['All this coronavirus stuff makes me want to reread The Hot Zone'],\n",
       " ['Ya tienes varios síntomas miserable. Hipocresía, cinismos, desvergüenza ilimitada. Pero lo tuyo no es el corona virus sino que eres vividor.'],\n",
       " [\"So, let's really unpack this. 1. Most of our goods are made in China. 2. We now have a case of coronavirus in Northern California, without a 'chain of custody' as to how they got it. 3. Stock market's down. 4. Dem in-fighting, and 45 is meeting with Diamond + Silk We're screwed.\"],\n",
       " ['Agora a culpa do coronavirus e suas consequências financeiras no mundo todo é do Bolsonaro Aahhh tá! Será q essas crianças do twitter e os velhos sustentados pelos pais não tem aquele negócio que se chama discernimento? Ou é BURRICE ou FALTA DE CARÁTER. Simples assim!'],\n",
       " ['Are the guards even going to show up for work if coronavirus is raging through a prison &amp; prisoners are being put on oxygen or dying? What does that even look like? Have we ever faced anything like this before? Is anyone even talking about it?'],\n",
       " ['Vejo malta preocupada em ir de viagem de finalistas enquanto há o coronavírus...bro you are worried with the wrong virus use some condoms'],\n",
       " [' #coronavirus #coronavirusUK #COVID19 #COVID19UK #2019nCoV #coronavirusUSA @TheLancet @CDCgov @WHO One way to deal with the reporting of confirmed cases '],\n",
       " ['Great news, we’ve decided to bully the fed into cutting rates again! That’s gonna save the market from the #coronavirus! Hooray!'],\n",
       " ['Bavarian pandemic plan for influenza is already 14 years old! Now it needs to be revised because of the spreading #coronavirus. #CoronaVirusUpdates #Coronavirusgermany #bavaria #COVID19 #Pandamic'],\n",
       " ['Pero al igual que no se puede asegurar nada al 100%, tampoco se puede descartar nada al 100%'],\n",
       " ['Coronavirus: EE,UU. advierte que la propagación es inevitable, Trump acusa medios de alarmar '],\n",
       " ['É tu q ta com corona virus? Tem uma suspeita em Montenegro.... Kkkkkk'],\n",
       " ['UNL pulls four students from South Korea for #coronavirus concerns '],\n",
       " ['“selic caiu então renda variável é o caminho” dai vem o corona virus e me da uns chutes na cara e ainda me faz sentir medo de sair de casa ÓDIO']]"
      ]
     },
     "execution_count": 6,
     "metadata": {},
     "output_type": "execute_result"
    }
   ],
   "source": [
    "tweet_before"
   ]
  },
  {
   "cell_type": "code",
   "execution_count": 7,
   "metadata": {},
   "outputs": [
    {
     "name": "stderr",
     "output_type": "stream",
     "text": [
      "[nltk_data] Downloading package punkt to\n",
      "[nltk_data]     C:\\Users\\ASUS\\AppData\\Roaming\\nltk_data...\n",
      "[nltk_data]   Package punkt is already up-to-date!\n"
     ]
    },
    {
     "data": {
      "text/plain": [
       "True"
      ]
     },
     "execution_count": 7,
     "metadata": {},
     "output_type": "execute_result"
    }
   ],
   "source": [
    "import nltk\n",
    "nltk.download('punkt')"
   ]
  },
  {
   "cell_type": "code",
   "execution_count": 8,
   "metadata": {},
   "outputs": [],
   "source": [
    "\n",
    "text_before=''\n",
    "for i in range(0,len(tweet_before)):\n",
    "    text_before=text_before+'. '+tweet_before[i][0]\n",
    "lower=text_before.lower()\n",
    "\n",
    "cleaned_text=lower.translate(str.maketrans('','',string.punctuation))\n",
    "\n",
    "from nltk.tokenize import word_tokenize\n",
    "tokens=word_tokenize(cleaned_text,'english')"
   ]
  },
  {
   "cell_type": "code",
   "execution_count": 9,
   "metadata": {},
   "outputs": [
    {
     "data": {
      "text/plain": [
       "9978"
      ]
     },
     "execution_count": 9,
     "metadata": {},
     "output_type": "execute_result"
    }
   ],
   "source": [
    "len(tokens)"
   ]
  },
  {
   "cell_type": "code",
   "execution_count": 10,
   "metadata": {},
   "outputs": [
    {
     "name": "stderr",
     "output_type": "stream",
     "text": [
      "[nltk_data] Downloading package stopwords to\n",
      "[nltk_data]     C:\\Users\\ASUS\\AppData\\Roaming\\nltk_data...\n",
      "[nltk_data]   Package stopwords is already up-to-date!\n"
     ]
    },
    {
     "data": {
      "text/plain": [
       "True"
      ]
     },
     "execution_count": 10,
     "metadata": {},
     "output_type": "execute_result"
    }
   ],
   "source": [
    "nltk.download('stopwords')"
   ]
  },
  {
   "cell_type": "code",
   "execution_count": 11,
   "metadata": {},
   "outputs": [],
   "source": [
    "from nltk.corpus import stopwords"
   ]
  },
  {
   "cell_type": "code",
   "execution_count": 12,
   "metadata": {},
   "outputs": [],
   "source": [
    "stop_words=stopwords.words('english')\n",
    "stop_words.remove('nor')\n",
    "stop_words.remove('no')\n",
    "stop_words.remove('not')"
   ]
  },
  {
   "cell_type": "code",
   "execution_count": 13,
   "metadata": {},
   "outputs": [],
   "source": [
    "words=[word for word in tokens if word not in stop_words]"
   ]
  },
  {
   "cell_type": "code",
   "execution_count": 14,
   "metadata": {},
   "outputs": [
    {
     "name": "stderr",
     "output_type": "stream",
     "text": [
      "[nltk_data] Downloading package wordnet to\n",
      "[nltk_data]     C:\\Users\\ASUS\\AppData\\Roaming\\nltk_data...\n",
      "[nltk_data]   Package wordnet is already up-to-date!\n"
     ]
    },
    {
     "data": {
      "text/plain": [
       "True"
      ]
     },
     "execution_count": 14,
     "metadata": {},
     "output_type": "execute_result"
    }
   ],
   "source": [
    "nltk.download('wordnet')"
   ]
  },
  {
   "cell_type": "code",
   "execution_count": 15,
   "metadata": {},
   "outputs": [],
   "source": [
    "from nltk.stem import WordNetLemmatizer"
   ]
  },
  {
   "cell_type": "code",
   "execution_count": 16,
   "metadata": {},
   "outputs": [],
   "source": [
    "lemma=[(WordNetLemmatizer().lemmatize(word)) for word in words]"
   ]
  },
  {
   "cell_type": "code",
   "execution_count": 17,
   "metadata": {},
   "outputs": [
    {
     "data": {
      "text/plain": [
       "7566"
      ]
     },
     "execution_count": 17,
     "metadata": {},
     "output_type": "execute_result"
    }
   ],
   "source": [
    "len(lemma)"
   ]
  },
  {
   "cell_type": "code",
   "execution_count": 18,
   "metadata": {},
   "outputs": [
    {
     "name": "stdout",
     "output_type": "stream",
     "text": [
      "Counter({'sad': 4, 'free': 3, 'fearful': 3, 'attracted': 2, 'average': 2, 'surprise': 2, 'powerless': 2, 'happy': 2, 'independent': 2, 'fearless': 1, 'esteemed': 1, 'adequate': 1, 'alone': 1})\n"
     ]
    }
   ],
   "source": [
    "clear_line=''\n",
    "emotion_list=[]\n",
    "with open('C:/Users/ASUS/NLP/sentiment_analysis_all_files/emotions.txt','r') as file:\n",
    "    for line in file:\n",
    "        clear_line=line.replace(\"\\n\",'').replace(\" \",\"\").replace(\",\",\" \").replace(\"'\",\"\").strip()\n",
    "        word,emotion=clear_line.split(':')\n",
    "        if word in lemma:\n",
    "            emotion_list.append(emotion)\n",
    "            \n",
    "w=Counter(emotion_list)\n",
    "print(w)"
   ]
  },
  {
   "cell_type": "code",
   "execution_count": 19,
   "metadata": {},
   "outputs": [
    {
     "data": {
      "image/png": "[encoded data removed]",
      "text/plain": [
       "<Figure size 864x432 with 1 Axes>"
      ]
     },
     "metadata": {
      "needs_background": "light"
     },
     "output_type": "display_data"
    }
   ],
   "source": [
    "fig,ax=plt.subplots(figsize=(12,6))\n",
    "ax.bar(w.keys(),w.values())\n",
    "fig.autofmt_xdate()\n",
    "plt.savefig('graph.png')\n",
    "plt.show()"
   ]
  },
  {
   "cell_type": "code",
   "execution_count": 20,
   "metadata": {},
   "outputs": [
    {
     "name": "stderr",
     "output_type": "stream",
     "text": [
      "[nltk_data] Downloading package vader_lexicon to\n",
      "[nltk_data]     C:\\Users\\ASUS\\AppData\\Roaming\\nltk_data...\n",
      "[nltk_data]   Package vader_lexicon is already up-to-date!\n"
     ]
    },
    {
     "data": {
      "text/plain": [
       "True"
      ]
     },
     "execution_count": 20,
     "metadata": {},
     "output_type": "execute_result"
    }
   ],
   "source": [
    "nltk.download('vader_lexicon')"
   ]
  },
  {
   "cell_type": "code",
   "execution_count": 21,
   "metadata": {},
   "outputs": [
    {
     "data": {
      "text/plain": [
       "{'neg': 0.096, 'neu': 0.839, 'pos': 0.064, 'compound': -0.9999}"
      ]
     },
     "execution_count": 21,
     "metadata": {},
     "output_type": "execute_result"
    }
   ],
   "source": [
    "from nltk.sentiment.vader import SentimentIntensityAnalyzer\n",
    "sia=SentimentIntensityAnalyzer()\n",
    "sia.polarity_scores(cleaned_text)"
   ]
  },
  {
   "cell_type": "markdown",
   "metadata": {},
   "source": [
    "# Now let us check the sentiment analysis after the outbreak of Corona Virus"
   ]
  },
  {
   "cell_type": "code",
   "execution_count": 22,
   "metadata": {},
   "outputs": [],
   "source": [
    "corona_after=get_tweets('corona virus','2020-03-25','2020-04-30',500)"
   ]
  },
  {
   "cell_type": "code",
   "execution_count": 23,
   "metadata": {},
   "outputs": [],
   "source": [
    "text_after=''\n",
    "for i in range(0,len(corona_after)):\n",
    "    text_after=text_after+'. '+corona_after[i][0]\n",
    "lower_after=text_after.lower()\n",
    "\n",
    "cleaned_after=lower_after.translate(str.maketrans('','',string.punctuation))"
   ]
  },
  {
   "cell_type": "code",
   "execution_count": 24,
   "metadata": {},
   "outputs": [],
   "source": [
    "words_after=word_tokenize(cleaned_after,'english')"
   ]
  },
  {
   "cell_type": "code",
   "execution_count": 25,
   "metadata": {},
   "outputs": [
    {
     "data": {
      "text/plain": [
       "11365"
      ]
     },
     "execution_count": 25,
     "metadata": {},
     "output_type": "execute_result"
    }
   ],
   "source": [
    "len(words_after)"
   ]
  },
  {
   "cell_type": "code",
   "execution_count": 26,
   "metadata": {},
   "outputs": [],
   "source": [
    "words_as=[word for word in words_after if word not in stop_words]"
   ]
  },
  {
   "cell_type": "code",
   "execution_count": 27,
   "metadata": {},
   "outputs": [
    {
     "data": {
      "text/plain": [
       "9047"
      ]
     },
     "execution_count": 27,
     "metadata": {},
     "output_type": "execute_result"
    }
   ],
   "source": [
    "len(words_as)"
   ]
  },
  {
   "cell_type": "code",
   "execution_count": 28,
   "metadata": {},
   "outputs": [],
   "source": [
    "lemma_a=[WordNetLemmatizer().lemmatize(word) for word in words_as]\n"
   ]
  },
  {
   "cell_type": "code",
   "execution_count": 29,
   "metadata": {},
   "outputs": [
    {
     "data": {
      "text/plain": [
       "9047"
      ]
     },
     "execution_count": 29,
     "metadata": {},
     "output_type": "execute_result"
    }
   ],
   "source": [
    "len(lemma_a)"
   ]
  },
  {
   "cell_type": "code",
   "execution_count": 30,
   "metadata": {},
   "outputs": [],
   "source": [
    "clean_line=''\n",
    "emotion_list=[]\n",
    "with open('C:/Users/ASUS/NLP/sentiment_analysis_all_files/emotions.txt','r') as file:\n",
    "    for line in file:\n",
    "        clean_line=line.replace(\"\\n\",'').replace(\" \",\"\").replace(\",\",\" \").replace(\"'\",\"\").strip()\n",
    "        word,emotion=clean_line.split(':')\n",
    "        if word in lemma_a:\n",
    "            emotion_list.append(emotion)\n",
    "            \n",
    "w1=Counter(emotion_list)"
   ]
  },
  {
   "cell_type": "code",
   "execution_count": 31,
   "metadata": {},
   "outputs": [
    {
     "name": "stdout",
     "output_type": "stream",
     "text": [
      "Counter({'sad': 5, 'happy': 3, 'attracted': 2, 'free': 2, 'angry': 2, 'loved': 2, 'average': 1, 'powerless': 1, 'alone': 1, 'lost': 1, 'attached': 1, 'obsessed': 1, 'fearful': 1, 'independent': 1, 'entitled': 1})\n"
     ]
    }
   ],
   "source": [
    "print(w1)"
   ]
  },
  {
   "cell_type": "code",
   "execution_count": 32,
   "metadata": {},
   "outputs": [
    {
     "data": {
      "image/png": "[encoded data removed]",
      "text/plain": [
       "<Figure size 720x432 with 1 Axes>"
      ]
     },
     "metadata": {
      "needs_background": "light"
     },
     "output_type": "display_data"
    }
   ],
   "source": [
    "fig,ax=plt.subplots(figsize=(10,6))\n",
    "ax.bar(w1.keys(),w1.values())\n",
    "fig.autofmt_xdate()\n",
    "plt.show()"
   ]
  },
  {
   "cell_type": "code",
   "execution_count": 33,
   "metadata": {},
   "outputs": [
    {
     "data": {
      "text/plain": [
       "{'neg': 0.097, 'neu': 0.843, 'pos': 0.06, 'compound': -0.9999}"
      ]
     },
     "execution_count": 33,
     "metadata": {},
     "output_type": "execute_result"
    }
   ],
   "source": [
    "sia=SentimentIntensityAnalyzer()\n",
    "sia.polarity_scores(cleaned_after) "
   ]
  },
  {
   "cell_type": "code",
   "execution_count": 34,
   "metadata": {},
   "outputs": [],
   "source": [
    "#Thus after the break out of corona virus in India people have become more sad than fearful and the reason is obvious."
   ]
  },
  {
   "cell_type": "markdown",
   "metadata": {},
   "source": [
    "# Task2:"
   ]
  },
  {
   "cell_type": "code",
   "execution_count": 35,
   "metadata": {},
   "outputs": [],
   "source": [
    "text=''\n",
    "with open('C:/Users/ASUS/text1.txt','r') as file:\n",
    "    for line in file:\n",
    "        text=text+''+line"
   ]
  },
  {
   "cell_type": "code",
   "execution_count": 36,
   "metadata": {},
   "outputs": [],
   "source": [
    "text=text.replace('\\n',' ')"
   ]
  },
  {
   "cell_type": "code",
   "execution_count": 37,
   "metadata": {},
   "outputs": [
    {
     "name": "stdout",
     "output_type": "stream",
     "text": [
      "300\n",
      "174\n",
      "174\n"
     ]
    }
   ],
   "source": [
    "lower=text.lower()\n",
    "cleaned=lower.translate(str.maketrans('?','.',string.punctuation))\n",
    "tokens=word_tokenize(cleaned,'english')\n",
    "print(len(tokens))\n",
    "\n",
    "words=[word for word in tokens if word not in stop_words]\n",
    "print(len(words))\n",
    "\n",
    "lemma=[WordNetLemmatizer().lemmatize(word) for word in words]\n",
    "print(len(lemma))"
   ]
  },
  {
   "cell_type": "code",
   "execution_count": 38,
   "metadata": {},
   "outputs": [
    {
     "data": {
      "text/plain": [
       "'two madhya pradesh officials were transferred on friday after bjps national general secretary kailash vijayvargiya questioned the police action against traders and the local youth of the states khargone district for celebrating the groundbreaking ceremony of the ram mandir in ayodhya with fireworks on the streets why is the khargone police behaving like bengal police kailash vijayvargiya said on twitter while strongly condemning the police action  the senior bjp leader while sharing a video of the incident on twitter wrote prime minister narendra modi ji has said that today is a day of glory for the country the foundation stone of the ram temple was laid in ayodhya the whole country is celebrating in such a situation police action on youths celebrating and cheering at the saraffa bazar of khargone is unfair  mr vijavargiya also tagged state home minister narrotam mishra on his post and advised him to make his police force understand  on wednesday as the groundbreaking ceremony of the ram temple was underway in ayodhya some traders and the local youth came together in the saraffa bazar area and began bursting crackers on the streets to celebrate the event the police fearing a law and order situation in the communally sensitive area took action against them  the traders alleged that many of those celebrating in the area were detained by the police for almost an hour they also accused the police of beating up a person for bursting crackers  the video of which has now gone viral on social media  the ruling bjp along with the vishwa hindu parishad and other outfits protested in khargone on thursday against the police action on the traders  khargone with over 850 cases of coronavirus and 18 related deaths has emerged as the second worstaffected district under the nimar region after indore'"
      ]
     },
     "execution_count": 38,
     "metadata": {},
     "output_type": "execute_result"
    }
   ],
   "source": [
    "cleaned"
   ]
  },
  {
   "cell_type": "code",
   "execution_count": 40,
   "metadata": {},
   "outputs": [
    {
     "name": "stdout",
     "output_type": "stream",
     "text": [
      "['two', 'madhya', 'pradesh', 'official', 'transferred', 'friday', 'bjps', 'national', 'general', 'secretary', 'kailash', 'vijayvargiya', 'questioned', 'police', 'action', 'trader', 'local', 'youth', 'state', 'khargone', 'district', 'celebrating', 'groundbreaking', 'ceremony', 'ram', 'mandir', 'ayodhya', 'firework', 'street', 'khargone', 'police', 'behaving', 'like', 'bengal', 'police', 'kailash', 'vijayvargiya', 'said', 'twitter', 'strongly', 'condemning', 'police', 'action', 'senior', 'bjp', 'leader', 'sharing', 'video', 'incident', 'twitter', 'wrote', 'prime', 'minister', 'narendra', 'modi', 'ji', 'said', 'today', 'day', 'glory', 'country', 'foundation', 'stone', 'ram', 'temple', 'laid', 'ayodhya', 'whole', 'country', 'celebrating', 'situation', 'police', 'action', 'youth', 'celebrating', 'cheering', 'saraffa', 'bazar', 'khargone', 'unfair', 'mr', 'vijavargiya', 'also', 'tagged', 'state', 'home', 'minister', 'narrotam', 'mishra', 'post', 'advised', 'make', 'police', 'force', 'understand', 'wednesday', 'groundbreaking', 'ceremony', 'ram', 'temple', 'underway', 'ayodhya', 'trader', 'local', 'youth', 'came', 'together', 'saraffa', 'bazar', 'area', 'began', 'bursting', 'cracker', 'street', 'celebrate', 'event', 'police', 'fearing', 'law', 'order', 'situation', 'communally', 'sensitive', 'area', 'took', 'action', 'trader', 'alleged', 'many', 'celebrating', 'area', 'detained', 'police', 'almost', 'hour', 'also', 'accused', 'police', 'beating', 'person', 'bursting', 'cracker', 'video', 'gone', 'viral', 'social', 'medium', 'ruling', 'bjp', 'along', 'vishwa', 'hindu', 'parishad', 'outfit', 'protested', 'khargone', 'thursday', 'police', 'action', 'trader', 'khargone', '850', 'case', 'coronavirus', '18', 'related', 'death', 'emerged', 'second', 'worstaffected', 'district', 'nimar', 'region', 'indore']\n"
     ]
    }
   ],
   "source": [
    "print(lemma)"
   ]
  },
  {
   "cell_type": "code",
   "execution_count": 41,
   "metadata": {},
   "outputs": [],
   "source": [
    "clear_line=''\n",
    "emotion_list=[]\n",
    "with open('C:/Users/ASUS/NLP/sentiment_analysis_all_files/emotions.txt','r') as file:\n",
    "    for line in file:\n",
    "        clear_line=line.replace(\"\\n\",'').replace(\" \",\"\").replace(\",\",\" \").replace(\"'\",\"\").strip()\n",
    "        word,emotion=clear_line.split(':')\n",
    "        if word in lemma:\n",
    "            emotion_list.append(emotion)\n",
    "            \n",
    "w=Counter(emotion_list)"
   ]
  },
  {
   "cell_type": "code",
   "execution_count": 42,
   "metadata": {},
   "outputs": [
    {
     "data": {
      "text/plain": [
       "Counter({'cheated': 1})"
      ]
     },
     "execution_count": 42,
     "metadata": {},
     "output_type": "execute_result"
    }
   ],
   "source": [
    "w"
   ]
  },
  {
   "cell_type": "code",
   "execution_count": 43,
   "metadata": {},
   "outputs": [
    {
     "data": {
      "image/png": "[encoded data removed]",
      "text/plain": [
       "<Figure size 720x432 with 1 Axes>"
      ]
     },
     "metadata": {
      "needs_background": "light"
     },
     "output_type": "display_data"
    }
   ],
   "source": [
    "fig,ax=plt.subplots(figsize=(10,6))\n",
    "ax.bar(w.keys(),w.values())\n",
    "fig.autofmt_xdate()\n",
    "plt.show()"
   ]
  },
  {
   "cell_type": "code",
   "execution_count": 44,
   "metadata": {},
   "outputs": [
    {
     "data": {
      "text/plain": [
       "{'neg': 0.054, 'neu': 0.847, 'pos': 0.1, 'compound': 0.9524}"
      ]
     },
     "execution_count": 44,
     "metadata": {},
     "output_type": "execute_result"
    }
   ],
   "source": [
    "sia.polarity_scores(cleaned)"
   ]
  },
  {
   "cell_type": "markdown",
   "metadata": {},
   "source": [
    "# Task3:"
   ]
  },
  {
   "cell_type": "code",
   "execution_count": 55,
   "metadata": {},
   "outputs": [],
   "source": [
    "s1= ['''This is the very first assignment for Natural Language Processing given to us. \n",
    "The objective is to create two documents and create a bag of words.''']\n",
    "\n",
    "s2= ['''This is the second document of bag of words assignment. Lets apply the concepts of Natural Language \n",
    "Processing and count vectorizer taught in the class.''']"
   ]
  },
  {
   "cell_type": "code",
   "execution_count": 59,
   "metadata": {},
   "outputs": [],
   "source": [
    "from sklearn.feature_extraction.text import CountVectorizer"
   ]
  },
  {
   "cell_type": "code",
   "execution_count": 60,
   "metadata": {},
   "outputs": [
    {
     "name": "stdout",
     "output_type": "stream",
     "text": [
      "['assignment', 'bag', 'create', 'documents', 'first', 'given', 'language', 'natural', 'objective', 'processing', 'two', 'us', 'words']\n"
     ]
    }
   ],
   "source": [
    "cvt=CountVectorizer(stop_words=stopwords.words('english'))\n",
    "cvt.fit_transform(s1)\n",
    "print(cvt.get_feature_names())"
   ]
  },
  {
   "cell_type": "code",
   "execution_count": 61,
   "metadata": {},
   "outputs": [
    {
     "data": {
      "text/plain": [
       "{'first': 4,\n",
       " 'assignment': 0,\n",
       " 'natural': 7,\n",
       " 'language': 6,\n",
       " 'processing': 9,\n",
       " 'given': 5,\n",
       " 'us': 11,\n",
       " 'objective': 8,\n",
       " 'create': 2,\n",
       " 'two': 10,\n",
       " 'documents': 3,\n",
       " 'bag': 1,\n",
       " 'words': 12}"
      ]
     },
     "execution_count": 61,
     "metadata": {},
     "output_type": "execute_result"
    }
   ],
   "source": [
    "cvt.vocabulary_"
   ]
  },
  {
   "cell_type": "code",
   "execution_count": 62,
   "metadata": {},
   "outputs": [],
   "source": [
    "cnew=cvt.transform(s2)\n",
    "cnew=cnew.toarray()"
   ]
  },
  {
   "cell_type": "code",
   "execution_count": 63,
   "metadata": {},
   "outputs": [],
   "source": [
    "import pandas as pd"
   ]
  },
  {
   "cell_type": "code",
   "execution_count": 64,
   "metadata": {},
   "outputs": [
    {
     "data": {
      "text/html": [
       "<div>\n",
       "<style scoped>\n",
       "    .dataframe tbody tr th:only-of-type {\n",
       "        vertical-align: middle;\n",
       "    }\n",
       "\n",
       "    .dataframe tbody tr th {\n",
       "        vertical-align: top;\n",
       "    }\n",
       "\n",
       "    .dataframe thead th {\n",
       "        text-align: right;\n",
       "    }\n",
       "</style>\n",
       "<table border=\"1\" class=\"dataframe\">\n",
       "  <thead>\n",
       "    <tr style=\"text-align: right;\">\n",
       "      <th></th>\n",
       "      <th>assignment</th>\n",
       "      <th>bag</th>\n",
       "      <th>create</th>\n",
       "      <th>documents</th>\n",
       "      <th>first</th>\n",
       "      <th>given</th>\n",
       "      <th>language</th>\n",
       "      <th>natural</th>\n",
       "      <th>objective</th>\n",
       "      <th>processing</th>\n",
       "      <th>two</th>\n",
       "      <th>us</th>\n",
       "      <th>words</th>\n",
       "    </tr>\n",
       "  </thead>\n",
       "  <tbody>\n",
       "    <tr>\n",
       "      <td>0</td>\n",
       "      <td>1</td>\n",
       "      <td>1</td>\n",
       "      <td>0</td>\n",
       "      <td>0</td>\n",
       "      <td>0</td>\n",
       "      <td>0</td>\n",
       "      <td>1</td>\n",
       "      <td>1</td>\n",
       "      <td>0</td>\n",
       "      <td>1</td>\n",
       "      <td>0</td>\n",
       "      <td>0</td>\n",
       "      <td>1</td>\n",
       "    </tr>\n",
       "  </tbody>\n",
       "</table>\n",
       "</div>"
      ],
      "text/plain": [
       "   assignment  bag  create  documents  first  given  language  natural  \\\n",
       "0           1    1       0          0      0      0         1        1   \n",
       "\n",
       "   objective  processing  two  us  words  \n",
       "0          0           1    0   0      1  "
      ]
     },
     "execution_count": 64,
     "metadata": {},
     "output_type": "execute_result"
    }
   ],
   "source": [
    "rep=pd.DataFrame(cnew,columns=cvect.get_feature_names())\n",
    "rep"
   ]
  },
  {
   "cell_type": "code",
   "execution_count": 65,
   "metadata": {},
   "outputs": [
    {
     "data": {
      "text/plain": [
       "6"
      ]
     },
     "execution_count": 65,
     "metadata": {},
     "output_type": "execute_result"
    }
   ],
   "source": [
    "cnew.sum()"
   ]
  },
  {
   "cell_type": "code",
   "execution_count": 66,
   "metadata": {},
   "outputs": [
    {
     "name": "stdout",
     "output_type": "stream",
     "text": [
      "{'assignment': 1, 'bag': 1, 'language': 1, 'natural': 1, 'processing': 1, 'words': 1}\n"
     ]
    }
   ],
   "source": [
    "cols=rep.columns\n",
    "dic={}\n",
    "for col in cols:\n",
    "    if rep[col].sum()>=1:\n",
    "        dic[col]=rep[col].sum()\n",
    "print(dic)"
   ]
  },
  {
   "cell_type": "code",
   "execution_count": 67,
   "metadata": {},
   "outputs": [
    {
     "data": {
      "text/plain": [
       "6"
      ]
     },
     "execution_count": 67,
     "metadata": {},
     "output_type": "execute_result"
    }
   ],
   "source": [
    "len(dic.keys())"
   ]
  },
  {
   "cell_type": "code",
   "execution_count": null,
   "metadata": {},
   "outputs": [],
   "source": []
  }
 ],
 "metadata": {
  "kernelspec": {
   "display_name": "Python 3",
   "language": "python",
   "name": "python3"
  },
  "language_info": {
   "codemirror_mode": {
    "name": "ipython",
    "version": 3
   },
   "file_extension": ".py",
   "mimetype": "text/x-python",
   "name": "python",
   "nbconvert_exporter": "python",
   "pygments_lexer": "ipython3",
   "version": "3.7.4"
  }
 },
 "nbformat": 4,
 "nbformat_minor": 2
}
