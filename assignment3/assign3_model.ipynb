{
  "nbformat": 4,
  "nbformat_minor": 0,
  "metadata": {
    "colab": {
      "name": "Untitled4.ipynb",
      "provenance": [],
      "collapsed_sections": []
    },
    "kernelspec": {
      "name": "python3",
      "display_name": "Python 3"
    }
  },
  "cells": [
    {
      "cell_type": "code",
      "metadata": {
        "id": "YxqGBwwSuejl",
        "colab_type": "code",
        "colab": {
          "base_uri": "https://localhost:8080/",
          "height": 121
        },
        "outputId": "af3fc784-029f-4806-f64a-ae8c98e8fb1b"
      },
      "source": [
        "from google.colab import drive\n",
        "drive.mount('/content/drive')"
      ],
      "execution_count": 1,
      "outputs": [
        {
          "output_type": "stream",
          "text": [
            "Go to this URL in a browser: https://accounts.google.com/o/oauth2/auth?client_id=947318989803-6bn6qk8qdgf4n4g3pfee6491hc0brc4i.apps.googleusercontent.com&redirect_uri=urn%3aietf%3awg%3aoauth%3a2.0%3aoob&response_type=code&scope=email%20https%3a%2f%2fwww.googleapis.com%2fauth%2fdocs.test%20https%3a%2f%2fwww.googleapis.com%2fauth%2fdrive%20https%3a%2f%2fwww.googleapis.com%2fauth%2fdrive.photos.readonly%20https%3a%2f%2fwww.googleapis.com%2fauth%2fpeopleapi.readonly\n",
            "\n",
            "Enter your authorization code:\n",
            "··········\n",
            "Mounted at /content/drive\n"
          ],
          "name": "stdout"
        }
      ]
    },
    {
      "cell_type": "code",
      "metadata": {
        "id": "KxGzXfEtuhlH",
        "colab_type": "code",
        "colab": {}
      },
      "source": [
        "#the file must be loaded from drive:\n",
        "file_name=\"/content/drive/My Drive/assignment3\""
      ],
      "execution_count": 2,
      "outputs": []
    },
    {
      "cell_type": "code",
      "metadata": {
        "id": "MLveuEIDvHrQ",
        "colab_type": "code",
        "colab": {
          "base_uri": "https://localhost:8080/",
          "height": 34
        },
        "outputId": "d8bf52cb-66da-44da-b91a-019a1633201b"
      },
      "source": [
        "from keras.models import Sequential\n",
        "from keras.layers import Conv2D\n",
        "from keras.layers import Flatten\n",
        "from keras.layers import Dense\n",
        "from keras.layers import Dropout\n",
        "from keras.layers import MaxPooling2D"
      ],
      "execution_count": 3,
      "outputs": [
        {
          "output_type": "stream",
          "text": [
            "Using TensorFlow backend.\n"
          ],
          "name": "stderr"
        }
      ]
    },
    {
      "cell_type": "code",
      "metadata": {
        "id": "6XNXpcAYHxGC",
        "colab_type": "code",
        "colab": {
          "base_uri": "https://localhost:8080/",
          "height": 50
        },
        "outputId": "532c9861-942f-400d-acd0-2574e183ef47"
      },
      "source": [
        "# initializing the CNN:\n",
        "cnn_classifier=Sequential()\n",
        "\n",
        "# Step1:Adding 1st layer of Convulation:\n",
        "cnn_classifier.add(Conv2D(32,(3,3), input_shape=(64,64,3),activation='relu'))\n",
        "\n",
        "##Step2: Pooling:\n",
        "cnn_classifier.add(MaxPooling2D(pool_size=(2,2)))\n",
        "\n",
        "# Repeat ie Adding Second Layer of Convulation:\n",
        "cnn_classifier.add(Conv2D(32,(3,3),activation='relu'))\n",
        "\n",
        "# Repeat ie Pooling:\n",
        "cnn_classifier.add(MaxPooling2D(pool_size=(2,2)))\n",
        "\n",
        "#Step3: Flattening:\n",
        "cnn_classifier.add(Flatten())\n",
        "\n",
        "#Step4: Full Connection:\n",
        "cnn_classifier.add(Dense(units=128,activation='relu'))\n",
        "cnn_classifier.add(Dense(units=1,activation='sigmoid'))\n",
        "\n",
        "#Step5:Compiling The CNN:\n",
        "cnn_classifier.compile(optimizer='adam',loss='binary_crossentropy',metrics=['accuracy'])\n",
        "\n",
        "from keras.preprocessing.image import ImageDataGenerator\n",
        "train_datagen = ImageDataGenerator(rescale=1./255)\n",
        "\n",
        "\n",
        "test_datagen = ImageDataGenerator(rescale=1./255)\n",
        "\n",
        "training_set = train_datagen.flow_from_directory(\n",
        "        '/content/drive/My Drive/assignment3/train_data',\n",
        "        target_size=(64, 64),\n",
        "        batch_size=32,\n",
        "        class_mode='binary')\n",
        "testing_set = test_datagen.flow_from_directory(\n",
        "        '/content/drive/My Drive/assignment3/test_data',\n",
        "        target_size=(64, 64),\n",
        "        batch_size=32,\n",
        "        class_mode='binary')\n",
        "\n"
      ],
      "execution_count": 35,
      "outputs": [
        {
          "output_type": "stream",
          "text": [
            "Found 991 images belonging to 2 classes.\n",
            "Found 245 images belonging to 2 classes.\n"
          ],
          "name": "stdout"
        }
      ]
    },
    {
      "cell_type": "code",
      "metadata": {
        "id": "iAKm_uu1v7NH",
        "colab_type": "code",
        "colab": {
          "base_uri": "https://localhost:8080/",
          "height": 454
        },
        "outputId": "e2155400-5ae9-4e24-c613-c64ca637f073"
      },
      "source": [
        "cnn_classifier.summary()"
      ],
      "execution_count": 51,
      "outputs": [
        {
          "output_type": "stream",
          "text": [
            "Model: \"sequential_14\"\n",
            "_________________________________________________________________\n",
            "Layer (type)                 Output Shape              Param #   \n",
            "=================================================================\n",
            "conv2d_45 (Conv2D)           (None, 62, 62, 32)        896       \n",
            "_________________________________________________________________\n",
            "max_pooling2d_44 (MaxPooling (None, 31, 31, 32)        0         \n",
            "_________________________________________________________________\n",
            "conv2d_46 (Conv2D)           (None, 29, 29, 64)        18496     \n",
            "_________________________________________________________________\n",
            "max_pooling2d_45 (MaxPooling (None, 14, 14, 64)        0         \n",
            "_________________________________________________________________\n",
            "conv2d_47 (Conv2D)           (None, 12, 12, 128)       73856     \n",
            "_________________________________________________________________\n",
            "max_pooling2d_46 (MaxPooling (None, 6, 6, 128)         0         \n",
            "_________________________________________________________________\n",
            "flatten_13 (Flatten)         (None, 4608)              0         \n",
            "_________________________________________________________________\n",
            "dense_34 (Dense)             (None, 128)               589952    \n",
            "_________________________________________________________________\n",
            "dense_35 (Dense)             (None, 1)                 129       \n",
            "=================================================================\n",
            "Total params: 683,329\n",
            "Trainable params: 683,329\n",
            "Non-trainable params: 0\n",
            "_________________________________________________________________\n"
          ],
          "name": "stdout"
        }
      ]
    },
    {
      "cell_type": "code",
      "metadata": {
        "id": "V_HhWp7DAbHY",
        "colab_type": "code",
        "colab": {
          "base_uri": "https://localhost:8080/",
          "height": 67
        },
        "outputId": "21cf1480-91bf-4f5c-b140-f44d75e09e84"
      },
      "source": [
        "cnn_classifier.fit(\n",
        "        training_set,\n",
        "        steps_per_epoch=2000,\n",
        "        epochs=1,\n",
        "        validation_data=test_set,\n",
        "        validation_steps=1000) \n"
      ],
      "execution_count": 37,
      "outputs": [
        {
          "output_type": "stream",
          "text": [
            "Epoch 1/1\n",
            "2000/2000 [==============================] - 660s 330ms/step - loss: 0.0314 - accuracy: 0.9863 - val_loss: 0.3022 - val_accuracy: 0.9143\n"
          ],
          "name": "stdout"
        },
        {
          "output_type": "execute_result",
          "data": {
            "text/plain": [
              "<keras.callbacks.callbacks.History at 0x7f465c52f320>"
            ]
          },
          "metadata": {
            "tags": []
          },
          "execution_count": 37
        }
      ]
    },
    {
      "cell_type": "code",
      "metadata": {
        "id": "5e9Td4EhA0Qs",
        "colab_type": "code",
        "colab": {}
      },
      "source": [
        "# we can see a very good accuracy in our first attempt .Lets try to improve more.\n",
        "#but before that lets check how much correct model tells us after apply one random image:"
      ],
      "execution_count": 38,
      "outputs": []
    },
    {
      "cell_type": "code",
      "metadata": {
        "id": "5OGbSKNHMeyt",
        "colab_type": "code",
        "colab": {
          "base_uri": "https://localhost:8080/",
          "height": 34
        },
        "outputId": "eafee4c4-15dd-4da9-ff71-39ca23198a9f"
      },
      "source": [
        "import numpy as np\n",
        "from keras.preprocessing import image\n",
        "test_image= image.load_img('/content/drive/My Drive/assignment/Images/flipkart_trousers/image_1.jpeg', target_size=(64,64))\n",
        "test_image=np.expand_dims(test_image,axis=0)\n",
        "result=cnn_classifier.predict(test_image)\n",
        "training_set.class_indices\n",
        "if result[0][0]==1:\n",
        "  prediction='trousers'\n",
        "  print(prediction)\n",
        "else:\n",
        "  prediction='jeans'"
      ],
      "execution_count": 45,
      "outputs": [
        {
          "output_type": "stream",
          "text": [
            "trousers\n"
          ],
          "name": "stdout"
        }
      ]
    },
    {
      "cell_type": "code",
      "metadata": {
        "id": "seUB_rbkNJM8",
        "colab_type": "code",
        "colab": {}
      },
      "source": [
        "#I have given one random image of trouser and model has predicted good enough as expected.\n",
        "#Now let play more with this ie in this part I am incresing convulation layer and also epochs:"
      ],
      "execution_count": 46,
      "outputs": []
    },
    {
      "cell_type": "code",
      "metadata": {
        "id": "k3wQyotIQBwK",
        "colab_type": "code",
        "colab": {
          "base_uri": "https://localhost:8080/",
          "height": 50
        },
        "outputId": "b1f87fcb-51f1-45bd-cda7-5ca25fcef679"
      },
      "source": [
        "# initializing the CNN:\n",
        "cnn_classifier=Sequential()\n",
        "\n",
        "# Step1:Adding 1st layer of Convulation:\n",
        "cnn_classifier.add(Conv2D(32,(3,3), input_shape=(64,64,3),activation='relu'))\n",
        "\n",
        "##Step2: Pooling:\n",
        "cnn_classifier.add(MaxPooling2D(pool_size=(2,2)))\n",
        "\n",
        "# Repeat ie Adding Second Layer of Convulation:\n",
        "cnn_classifier.add(Conv2D(64,(3,3),activation='relu'))\n",
        "\n",
        "# Repeat ie Pooling:\n",
        "cnn_classifier.add(MaxPooling2D(pool_size=(2,2)))\n",
        "\n",
        "# Again Repeating ie Adding Third Layer of Convulation:\n",
        "cnn_classifier.add(Conv2D(128,(3,3),activation='relu'))\n",
        "\n",
        "# Same with the this ie Pooling:\n",
        "cnn_classifier.add(MaxPooling2D(pool_size=(2,2)))\n",
        "\n",
        "#Step3: Flattening:\n",
        "cnn_classifier.add(Flatten())\n",
        "\n",
        "#Step4: Full Connection:\n",
        "cnn_classifier.add(Dense(units=128,activation='relu'))\n",
        "cnn_classifier.add(Dense(units=1,activation='sigmoid'))\n",
        "\n",
        "#Step5:Compiling The CNN:\n",
        "cnn_classifier.compile(optimizer='adam',loss='binary_crossentropy',metrics=['accuracy'])\n",
        "\n",
        "from keras.preprocessing.image import ImageDataGenerator\n",
        "train_datagen = ImageDataGenerator(rescale=1./255)\n",
        "\n",
        "\n",
        "test_datagen = ImageDataGenerator(rescale=1./255)\n",
        "\n",
        "training_set = train_datagen.flow_from_directory(\n",
        "        '/content/drive/My Drive/assignment3/train_data',\n",
        "        target_size=(64, 64),\n",
        "        batch_size=32,\n",
        "        class_mode='binary')\n",
        "testing_set = test_datagen.flow_from_directory(\n",
        "        '/content/drive/My Drive/assignment3/test_data',\n",
        "        target_size=(64, 64),\n",
        "        batch_size=32,\n",
        "        class_mode='binary')"
      ],
      "execution_count": 47,
      "outputs": [
        {
          "output_type": "stream",
          "text": [
            "Found 991 images belonging to 2 classes.\n",
            "Found 245 images belonging to 2 classes.\n"
          ],
          "name": "stdout"
        }
      ]
    },
    {
      "cell_type": "code",
      "metadata": {
        "id": "iLPEC8xEQpM1",
        "colab_type": "code",
        "colab": {
          "base_uri": "https://localhost:8080/",
          "height": 454
        },
        "outputId": "cb7dd72d-7f47-4764-a970-b5a5a3fabe76"
      },
      "source": [
        "cnn_classifier.summary()"
      ],
      "execution_count": 48,
      "outputs": [
        {
          "output_type": "stream",
          "text": [
            "Model: \"sequential_14\"\n",
            "_________________________________________________________________\n",
            "Layer (type)                 Output Shape              Param #   \n",
            "=================================================================\n",
            "conv2d_45 (Conv2D)           (None, 62, 62, 32)        896       \n",
            "_________________________________________________________________\n",
            "max_pooling2d_44 (MaxPooling (None, 31, 31, 32)        0         \n",
            "_________________________________________________________________\n",
            "conv2d_46 (Conv2D)           (None, 29, 29, 64)        18496     \n",
            "_________________________________________________________________\n",
            "max_pooling2d_45 (MaxPooling (None, 14, 14, 64)        0         \n",
            "_________________________________________________________________\n",
            "conv2d_47 (Conv2D)           (None, 12, 12, 128)       73856     \n",
            "_________________________________________________________________\n",
            "max_pooling2d_46 (MaxPooling (None, 6, 6, 128)         0         \n",
            "_________________________________________________________________\n",
            "flatten_13 (Flatten)         (None, 4608)              0         \n",
            "_________________________________________________________________\n",
            "dense_34 (Dense)             (None, 128)               589952    \n",
            "_________________________________________________________________\n",
            "dense_35 (Dense)             (None, 1)                 129       \n",
            "=================================================================\n",
            "Total params: 683,329\n",
            "Trainable params: 683,329\n",
            "Non-trainable params: 0\n",
            "_________________________________________________________________\n"
          ],
          "name": "stdout"
        }
      ]
    },
    {
      "cell_type": "code",
      "metadata": {
        "id": "BFWlPqNjQqx7",
        "colab_type": "code",
        "colab": {
          "base_uri": "https://localhost:8080/",
          "height": 67
        },
        "outputId": "95532c5b-7963-4e18-f605-511a28f0cd6a"
      },
      "source": [
        "cnn_classifier.fit(\n",
        "        training_set,\n",
        "        steps_per_epoch=1000,\n",
        "        epochs=1  ,\n",
        "        validation_data=test_set,\n",
        "        validation_steps=500) "
      ],
      "execution_count": 49,
      "outputs": [
        {
          "output_type": "stream",
          "text": [
            "Epoch 1/1\n",
            "1000/1000 [==============================] - 347s 347ms/step - loss: 0.0676 - accuracy: 0.9693 - val_loss: 0.3538 - val_accuracy: 0.9307\n"
          ],
          "name": "stdout"
        },
        {
          "output_type": "execute_result",
          "data": {
            "text/plain": [
              "<keras.callbacks.callbacks.History at 0x7f465cd7a1d0>"
            ]
          },
          "metadata": {
            "tags": []
          },
          "execution_count": 49
        }
      ]
    },
    {
      "cell_type": "code",
      "metadata": {
        "id": "ZjXooRzwQ3GE",
        "colab_type": "code",
        "colab": {}
      },
      "source": [
        "# We clearly see that our val_accuracy has improved a lot and the differnce has also decreased.\n",
        "#Now let play more and increses epoch this time:"
      ],
      "execution_count": 50,
      "outputs": []
    },
    {
      "cell_type": "code",
      "metadata": {
        "id": "JlTQilSnVlhD",
        "colab_type": "code",
        "colab": {
          "base_uri": "https://localhost:8080/",
          "height": 50
        },
        "outputId": "6ca7a93a-68d6-40f4-cacc-a746271054c3"
      },
      "source": [
        "# initializing the CNN:\n",
        "cnn_classifier=Sequential()\n",
        "\n",
        "# Step1:Adding 1st layer of Convulation:\n",
        "cnn_classifier.add(Conv2D(32,(5,5), input_shape=(64,64,3),activation='relu'))\n",
        "\n",
        "##Step2: Pooling:\n",
        "cnn_classifier.add(MaxPooling2D(pool_size=(2,2)))\n",
        "\n",
        "# Repeat ie Adding Second Layer of Convulation:\n",
        "cnn_classifier.add(Conv2D(64,(5,5),activation='relu'))\n",
        "\n",
        "# Repeat ie Pooling:\n",
        "cnn_classifier.add(MaxPooling2D(pool_size=(2,2)))\n",
        "\n",
        "# Again Repeating ie Adding Third Layer of Convulation:\n",
        "cnn_classifier.add(Conv2D(128,(5,5),activation='relu'))\n",
        "\n",
        "# Same with the this ie Pooling:\n",
        "cnn_classifier.add(MaxPooling2D(pool_size=(2,2)))\n",
        "\n",
        "#Step3: Flattening:\n",
        "cnn_classifier.add(Flatten())\n",
        "\n",
        "#Step4: Full Connection:\n",
        "cnn_classifier.add(Dense(units=128,activation='relu'))\n",
        "cnn_classifier.add(Dense(units=1,activation='sigmoid'))\n",
        "\n",
        "#Step5:Compiling The CNN:\n",
        "cnn_classifier.compile(optimizer='adam',loss='binary_crossentropy',metrics=['accuracy'])\n",
        "\n",
        "from keras.preprocessing.image import ImageDataGenerator\n",
        "train_datagen = ImageDataGenerator(rescale=1./255)\n",
        "\n",
        "\n",
        "test_datagen = ImageDataGenerator(rescale=1./255)\n",
        "\n",
        "training_set = train_datagen.flow_from_directory(\n",
        "        '/content/drive/My Drive/assignment3/train_data',\n",
        "        target_size=(64, 64),\n",
        "        batch_size=32,\n",
        "        class_mode='binary')\n",
        "testing_set = test_datagen.flow_from_directory(\n",
        "        '/content/drive/My Drive/assignment3/test_data',\n",
        "        target_size=(64, 64),\n",
        "        batch_size=32,\n",
        "        class_mode='binary')\n"
      ],
      "execution_count": 53,
      "outputs": [
        {
          "output_type": "stream",
          "text": [
            "Found 991 images belonging to 2 classes.\n",
            "Found 245 images belonging to 2 classes.\n"
          ],
          "name": "stdout"
        }
      ]
    },
    {
      "cell_type": "code",
      "metadata": {
        "id": "5HGU7HfAV88x",
        "colab_type": "code",
        "colab": {
          "base_uri": "https://localhost:8080/",
          "height": 454
        },
        "outputId": "18568c01-cfc8-48b1-9e4e-43d192503c19"
      },
      "source": [
        "cnn_classifier.summary()"
      ],
      "execution_count": 54,
      "outputs": [
        {
          "output_type": "stream",
          "text": [
            "Model: \"sequential_16\"\n",
            "_________________________________________________________________\n",
            "Layer (type)                 Output Shape              Param #   \n",
            "=================================================================\n",
            "conv2d_51 (Conv2D)           (None, 60, 60, 32)        2432      \n",
            "_________________________________________________________________\n",
            "max_pooling2d_50 (MaxPooling (None, 30, 30, 32)        0         \n",
            "_________________________________________________________________\n",
            "conv2d_52 (Conv2D)           (None, 26, 26, 64)        51264     \n",
            "_________________________________________________________________\n",
            "max_pooling2d_51 (MaxPooling (None, 13, 13, 64)        0         \n",
            "_________________________________________________________________\n",
            "conv2d_53 (Conv2D)           (None, 9, 9, 128)         204928    \n",
            "_________________________________________________________________\n",
            "max_pooling2d_52 (MaxPooling (None, 4, 4, 128)         0         \n",
            "_________________________________________________________________\n",
            "flatten_15 (Flatten)         (None, 2048)              0         \n",
            "_________________________________________________________________\n",
            "dense_38 (Dense)             (None, 128)               262272    \n",
            "_________________________________________________________________\n",
            "dense_39 (Dense)             (None, 1)                 129       \n",
            "=================================================================\n",
            "Total params: 521,025\n",
            "Trainable params: 521,025\n",
            "Non-trainable params: 0\n",
            "_________________________________________________________________\n"
          ],
          "name": "stdout"
        }
      ]
    },
    {
      "cell_type": "code",
      "metadata": {
        "id": "xdETJvpfWR4E",
        "colab_type": "code",
        "colab": {
          "base_uri": "https://localhost:8080/",
          "height": 134
        },
        "outputId": "3166e629-3eeb-4ff6-f516-ec1bfda5f1b7"
      },
      "source": [
        "cnn_classifier.fit(\n",
        "        training_set,\n",
        "        steps_per_epoch=1500,\n",
        "        epochs=3  ,\n",
        "        validation_data=test_set,\n",
        "        validation_steps=500) "
      ],
      "execution_count": 55,
      "outputs": [
        {
          "output_type": "stream",
          "text": [
            "Epoch 1/3\n",
            "1500/1500 [==============================] - 704s 470ms/step - loss: 0.0402 - accuracy: 0.9823 - val_loss: 5.5900e-04 - val_accuracy: 0.9306\n",
            "Epoch 2/3\n",
            "1500/1500 [==============================] - 698s 465ms/step - loss: 2.5582e-05 - accuracy: 1.0000 - val_loss: 0.6931 - val_accuracy: 0.9306\n",
            "Epoch 3/3\n",
            "1500/1500 [==============================] - 699s 466ms/step - loss: 6.6387e-06 - accuracy: 1.0000 - val_loss: 0.2470 - val_accuracy: 0.9307\n"
          ],
          "name": "stdout"
        },
        {
          "output_type": "execute_result",
          "data": {
            "text/plain": [
              "<keras.callbacks.callbacks.History at 0x7f465c458b38>"
            ]
          },
          "metadata": {
            "tags": []
          },
          "execution_count": 55
        }
      ]
    },
    {
      "cell_type": "code",
      "metadata": {
        "id": "2LDJ96efdFyK",
        "colab_type": "code",
        "colab": {}
      },
      "source": [
        "#We can clearly see that our model has started overfitting and we can improve it more since gap has started increasing."
      ],
      "execution_count": 57,
      "outputs": []
    },
    {
      "cell_type": "code",
      "metadata": {
        "id": "jXxDaL9pWdgD",
        "colab_type": "code",
        "colab": {}
      },
      "source": [
        "#Trying one more times this time by increasing covulation layer and epoch also we can add dropout depending our accuracy.\n",
        "#Our main aim is to avoid overfitting."
      ],
      "execution_count": 58,
      "outputs": []
    },
    {
      "cell_type": "code",
      "metadata": {
        "id": "WPG7bioyZz-L",
        "colab_type": "code",
        "colab": {
          "base_uri": "https://localhost:8080/",
          "height": 50
        },
        "outputId": "bc31b16a-9003-468e-857f-74576097ac7a"
      },
      "source": [
        "# initializing the CNN:\n",
        "cnn_classifier=Sequential()\n",
        "\n",
        "# Step1:Adding 1st layer of Convulation:\n",
        "cnn_classifier.add(Conv2D(64,(3,3), input_shape=(64,64,3),activation='relu'))\n",
        "\n",
        "##Step2: Pooling:\n",
        "cnn_classifier.add(MaxPooling2D(pool_size=(2,2)))\n",
        "\n",
        "# Repeat ie Adding Second Layer of Convulation:\n",
        "cnn_classifier.add(Conv2D(128,(3,3),activation='relu'))\n",
        "\n",
        "# Repeat ie Pooling:\n",
        "cnn_classifier.add(MaxPooling2D(pool_size=(2,2)))\n",
        "\n",
        "# Again Repeating ie Adding Third Layer of Convulation:\n",
        "cnn_classifier.add(Conv2D(256,(3,3),activation='relu'))\n",
        "\n",
        "# Same with the this ie Pooling:\n",
        "cnn_classifier.add(MaxPooling2D(pool_size=(2,2)))\n",
        "\n",
        "#Step3: Flattening:\n",
        "cnn_classifier.add(Flatten())\n",
        "\n",
        "#Step4: Full Connection:\n",
        "cnn_classifier.add(Dense(units=128,activation='relu'))\n",
        "cnn_classifier.add(Dense(units=1,activation='sigmoid'))\n",
        "\n",
        "#Step5:Compiling The CNN:\n",
        "cnn_classifier.compile(optimizer='adam',loss='binary_crossentropy',metrics=['accuracy'])\n",
        "\n",
        "from keras.preprocessing.image import ImageDataGenerator\n",
        "train_datagen = ImageDataGenerator(rescale=1./255)\n",
        "\n",
        "\n",
        "test_datagen = ImageDataGenerator(rescale=1./255)\n",
        "\n",
        "training_set = train_datagen.flow_from_directory(\n",
        "        '/content/drive/My Drive/assignment3/train_data',\n",
        "        target_size=(64, 64),\n",
        "        batch_size=32,\n",
        "        class_mode='binary')\n",
        "testing_set = test_datagen.flow_from_directory(\n",
        "        '/content/drive/My Drive/assignment3/test_data',\n",
        "        target_size=(64, 64),\n",
        "        batch_size=32,\n",
        "        class_mode='binary')"
      ],
      "execution_count": 59,
      "outputs": [
        {
          "output_type": "stream",
          "text": [
            "Found 991 images belonging to 2 classes.\n",
            "Found 245 images belonging to 2 classes.\n"
          ],
          "name": "stdout"
        }
      ]
    },
    {
      "cell_type": "code",
      "metadata": {
        "id": "XyI2y1ppepO-",
        "colab_type": "code",
        "colab": {
          "base_uri": "https://localhost:8080/",
          "height": 454
        },
        "outputId": "72b7e183-dfe1-47dd-ec05-0cd705adef97"
      },
      "source": [
        "cnn_classifier.summary()"
      ],
      "execution_count": 60,
      "outputs": [
        {
          "output_type": "stream",
          "text": [
            "Model: \"sequential_17\"\n",
            "_________________________________________________________________\n",
            "Layer (type)                 Output Shape              Param #   \n",
            "=================================================================\n",
            "conv2d_54 (Conv2D)           (None, 62, 62, 64)        1792      \n",
            "_________________________________________________________________\n",
            "max_pooling2d_53 (MaxPooling (None, 31, 31, 64)        0         \n",
            "_________________________________________________________________\n",
            "conv2d_55 (Conv2D)           (None, 29, 29, 128)       73856     \n",
            "_________________________________________________________________\n",
            "max_pooling2d_54 (MaxPooling (None, 14, 14, 128)       0         \n",
            "_________________________________________________________________\n",
            "conv2d_56 (Conv2D)           (None, 12, 12, 256)       295168    \n",
            "_________________________________________________________________\n",
            "max_pooling2d_55 (MaxPooling (None, 6, 6, 256)         0         \n",
            "_________________________________________________________________\n",
            "flatten_16 (Flatten)         (None, 9216)              0         \n",
            "_________________________________________________________________\n",
            "dense_40 (Dense)             (None, 128)               1179776   \n",
            "_________________________________________________________________\n",
            "dense_41 (Dense)             (None, 1)                 129       \n",
            "=================================================================\n",
            "Total params: 1,550,721\n",
            "Trainable params: 1,550,721\n",
            "Non-trainable params: 0\n",
            "_________________________________________________________________\n"
          ],
          "name": "stdout"
        }
      ]
    },
    {
      "cell_type": "code",
      "metadata": {
        "id": "KH-L62CqaJGQ",
        "colab_type": "code",
        "colab": {}
      },
      "source": [
        "cnn_classifier.fit(\n",
        "        training_set,\n",
        "        steps_per_epoch=2000,\n",
        "        epochs=1  ,\n",
        "        validation_data=test_set,\n",
        "        validation_steps=1000) "
      ],
      "execution_count": null,
      "outputs": []
    },
    {
      "cell_type": "code",
      "metadata": {
        "id": "2VHZoUbHdD6l",
        "colab_type": "code",
        "colab": {}
      },
      "source": [
        "#Could not run properly due to internet issue and while running laptop got switched of. "
      ],
      "execution_count": 56,
      "outputs": []
    },
    {
      "cell_type": "code",
      "metadata": {
        "id": "zEmF-Vo-ekbv",
        "colab_type": "code",
        "colab": {}
      },
      "source": [
        ""
      ],
      "execution_count": null,
      "outputs": []
    }
  ]
}