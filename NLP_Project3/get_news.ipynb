{
 "cells": [
  {
   "cell_type": "code",
   "execution_count": 70,
   "metadata": {},
   "outputs": [
    {
     "name": "stdout",
     "output_type": "stream",
     "text": [
      "2911\n",
      "1203\n"
     ]
    }
   ],
   "source": [
    "import spacy\n",
    "nlp=spacy.load('en')\n",
    "from newspaper import Article\n",
    "from selenium import webdriver\n",
    "from selenium.webdriver.common.keys import Keys\n",
    "import requests\n",
    "from selenium.common.exceptions import StaleElementReferenceException\n",
    "\n",
    "browser = webdriver.Firefox()\n",
    "\n",
    "sections=['india-news', 'world-news', 'business-news', 'bollywood', 'latest-news', 'education', 'cricket', \n",
    "          'opinion', 'entertainment']\n",
    "\n",
    "links=[]\n",
    "for section in sections:\n",
    "    for page in range(1,12):\n",
    "        current_page_url = browser.get('https://www.hindustantimes.com/{}/page/?pageno={}'.format(section,page))\n",
    "        values= browser.find_elements_by_xpath(\"//div[@class='media-heading headingfour']//a\")\n",
    "        for value in values:\n",
    "            link=value.get_attribute('href')\n",
    "            links.append(link)\n",
    "            \n",
    "print(len(links))\n",
    "links=set(links)\n",
    "print(len(links))\n",
    "\n",
    "\n",
    "for link in links:           \n",
    "            article=Article(link)\n",
    "            article.download()\n",
    "            article.parse()\n",
    "            article.nlp()\n",
    "            text=article.text\n",
    "            final=''\n",
    "            for i in text.split('\\n')[4:]:\n",
    "                if i.startswith('Click here') or i.startswith('Also read') or i.startswith('Follow'):\n",
    "                    continue\n",
    "                final+=i\n",
    "            final=final+'\\n'\n",
    "            with open('train_news.txt', 'a') as f:\n",
    "                f.writelines(final)"
   ]
  },
  {
   "cell_type": "code",
   "execution_count": 72,
   "metadata": {},
   "outputs": [
    {
     "name": "stdout",
     "output_type": "stream",
     "text": [
      "935\n",
      "242\n"
     ]
    }
   ],
   "source": [
    "test_links=[]\n",
    "for section in sections:\n",
    "    for page in range(13,18):\n",
    "        current_page_url = browser.get('https://www.hindustantimes.com/{}/page/?pageno={}'.format(section,page))\n",
    "        values= browser.find_elements_by_xpath(\"//div[@class='media-heading headingfour']//a\")\n",
    "        for value in values:\n",
    "            link=value.get_attribute('href')\n",
    "            test_links.append(link)\n",
    "            \n",
    "print(len(test_links))\n",
    "test_links=set(test_links)\n",
    "print(len(test_links))\n",
    "\n",
    "\n",
    "for link in test_links:           \n",
    "            article=Article(link)\n",
    "            article.download()\n",
    "            article.parse()\n",
    "            article.nlp()\n",
    "            text=article.text\n",
    "            final=''\n",
    "            for i in text.split('\\n')[4:]:\n",
    "                if i.startswith('Click here') or i.startswith('Also read') or i.startswith('Follow'):\n",
    "                    continue\n",
    "                final+=i\n",
    "            final=final+'\\n'\n",
    "            with open('test_news.txt', 'a') as f:\n",
    "                f.writelines(final)"
   ]
  },
  {
   "cell_type": "code",
   "execution_count": null,
   "metadata": {},
   "outputs": [],
   "source": []
  },
  {
   "cell_type": "code",
   "execution_count": 65,
   "metadata": {},
   "outputs": [],
   "source": []
  },
  {
   "cell_type": "code",
   "execution_count": null,
   "metadata": {},
   "outputs": [],
   "source": []
  },
  {
   "cell_type": "code",
   "execution_count": null,
   "metadata": {},
   "outputs": [],
   "source": []
  }
 ],
 "metadata": {
  "kernelspec": {
   "display_name": "Python 3",
   "language": "python",
   "name": "python3"
  },
  "language_info": {
   "codemirror_mode": {
    "name": "ipython",
    "version": 3
   },
   "file_extension": ".py",
   "mimetype": "text/x-python",
   "name": "python",
   "nbconvert_exporter": "python",
   "pygments_lexer": "ipython3",
   "version": "3.8.2"
  }
 },
 "nbformat": 4,
 "nbformat_minor": 4
}
