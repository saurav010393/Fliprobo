{
 "cells": [
  {
   "cell_type": "code",
   "execution_count": 1,
   "metadata": {},
   "outputs": [],
   "source": [
    "from bs4 import BeautifulSoup\n",
    "import requests\n",
    "import urllib.request\n",
    "from urllib.request import urlopen\n",
    "url = 'https://images.google.com/'\n",
    "# html=urlopen(url)\n",
    "res = requests.get(url=url)\n",
    "soup = BeautifulSoup(res.content, 'html.parser')\n",
    "\n",
    "search_button=soup.find('div',{'class':'FAuhyb'})\n",
    "search_bar=soup.find('input',{'class':'gLFyf gsfi'})"
   ]
  },
  {
   "cell_type": "code",
   "execution_count": null,
   "metadata": {},
   "outputs": [],
   "source": []
  },
  {
   "cell_type": "code",
   "execution_count": 3,
   "metadata": {},
   "outputs": [
    {
     "name": "stdout",
     "output_type": "stream",
     "text": [
      "Title found\n",
      "Economy - Wikipedia\n"
     ]
    }
   ],
   "source": [
    "from bs4 import BeautifulSoup\n",
    "import requests\n",
    "import urllib.request\n",
    "def title(url):\n",
    "  res = requests.get(url=url)\n",
    "  soup = BeautifulSoup(res.content, 'html.parser')\n",
    "  try:\n",
    "    title=soup.find('title')\n",
    "  except AttributeError as e:\n",
    "    return None\n",
    "\n",
    "  return title.string\n",
    "\n",
    "url= 'https://en.wikipedia.org/wiki/Economy'\n",
    "check = title(url)\n",
    "if check == None:\n",
    "    print ('Title not found')\n",
    "else:\n",
    "    print('Title found')\n",
    "    print (check)"
   ]
  },
  {
   "cell_type": "code",
   "execution_count": null,
   "metadata": {},
   "outputs": [],
   "source": []
  }
 ],
 "metadata": {
  "kernelspec": {
   "display_name": "Python 3",
   "language": "python",
   "name": "python3"
  },
  "language_info": {
   "codemirror_mode": {
    "name": "ipython",
    "version": 3
   },
   "file_extension": ".py",
   "mimetype": "text/x-python",
   "name": "python",
   "nbconvert_exporter": "python",
   "pygments_lexer": "ipython3",
   "version": "3.7.4"
  }
 },
 "nbformat": 4,
 "nbformat_minor": 2
}
