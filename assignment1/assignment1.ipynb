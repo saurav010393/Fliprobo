{
  "nbformat": 4,
  "nbformat_minor": 0,
  "metadata": {
    "colab": {
      "name": "Untitled0.ipynb",
      "provenance": [],
      "collapsed_sections": []
    },
    "kernelspec": {
      "name": "python3",
      "display_name": "Python 3"
    },
    "accelerator": "GPU"
  },
  "cells": [
    {
      "cell_type": "code",
      "metadata": {
        "id": "LdVTduN_ruOj",
        "colab_type": "code",
        "colab": {
          "base_uri": "https://localhost:8080/",
          "height": 34
        },
        "outputId": "bac03101-ede4-41f8-ed1d-09cdd2f63160"
      },
      "source": [
        "from google.colab import drive\n",
        "drive.mount('/content/drive')"
      ],
      "execution_count": null,
      "outputs": [
        {
          "output_type": "stream",
          "text": [
            "Drive already mounted at /content/drive; to attempt to forcibly remount, call drive.mount(\"/content/drive\", force_remount=True).\n"
          ],
          "name": "stdout"
        }
      ]
    },
    {
      "cell_type": "code",
      "metadata": {
        "id": "ipyCMnt7xppN",
        "colab_type": "code",
        "colab": {}
      },
      "source": [
        "#the file must be loaded from drive:\n",
        "file_name=\"/content/drive/My Drive/dataset\""
      ],
      "execution_count": null,
      "outputs": []
    },
    {
      "cell_type": "code",
      "metadata": {
        "id": "5j3DQ0cdzFTy",
        "colab_type": "code",
        "colab": {
          "base_uri": "https://localhost:8080/",
          "height": 205
        },
        "outputId": "310d07dd-b3c8-47fb-c3dc-5561a17819d9"
      },
      "source": [
        "!pip show tensorflow\n",
        "!pip install -q keras"
      ],
      "execution_count": null,
      "outputs": [
        {
          "output_type": "stream",
          "text": [
            "Name: tensorflow\n",
            "Version: 2.2.0\n",
            "Summary: TensorFlow is an open source machine learning framework for everyone.\n",
            "Home-page: https://www.tensorflow.org/\n",
            "Author: Google Inc.\n",
            "Author-email: packages@tensorflow.org\n",
            "License: Apache 2.0\n",
            "Location: /usr/local/lib/python3.6/dist-packages\n",
            "Requires: protobuf, opt-einsum, six, absl-py, numpy, google-pasta, astunparse, grpcio, scipy, wrapt, tensorboard, keras-preprocessing, termcolor, wheel, h5py, tensorflow-estimator, gast\n",
            "Required-by: fancyimpute\n"
          ],
          "name": "stdout"
        }
      ]
    },
    {
      "cell_type": "code",
      "metadata": {
        "id": "UjhYuG6K2aHs",
        "colab_type": "code",
        "colab": {
          "base_uri": "https://localhost:8080/",
          "height": 34
        },
        "outputId": "9530d00a-d426-4bd3-eba1-aa45f5299d5e"
      },
      "source": [
        "from keras.models import Sequential\n",
        "from keras.layers import Conv2D\n",
        "from keras.layers import Flatten\n",
        "from keras.layers import Dense\n",
        "from keras.layers import MaxPooling2D\n"
      ],
      "execution_count": null,
      "outputs": [
        {
          "output_type": "stream",
          "text": [
            "Using TensorFlow backend.\n"
          ],
          "name": "stderr"
        }
      ]
    },
    {
      "cell_type": "code",
      "metadata": {
        "id": "9Lt3-X_V3NV9",
        "colab_type": "code",
        "colab": {}
      },
      "source": [
        "# initializing the CNN:\n",
        "cnn_classifier=Sequential()"
      ],
      "execution_count": null,
      "outputs": []
    },
    {
      "cell_type": "code",
      "metadata": {
        "id": "KrKVwf5uIE9Q",
        "colab_type": "code",
        "colab": {}
      },
      "source": [
        "# Step1:Adding 1st layer of Convulation:\n",
        "cnn_classifier.add(Conv2D(32,(3,2), input_shape=(64,64,3),activation='relu'))"
      ],
      "execution_count": null,
      "outputs": []
    },
    {
      "cell_type": "code",
      "metadata": {
        "id": "j-jn-2AKELVs",
        "colab_type": "code",
        "colab": {}
      },
      "source": [
        "#Step2: Pooling:\n",
        "cnn_classifier.add(MaxPooling2D(pool_size=(2,2)))"
      ],
      "execution_count": null,
      "outputs": []
    },
    {
      "cell_type": "code",
      "metadata": {
        "id": "ThIu7OUrHy1t",
        "colab_type": "code",
        "colab": {}
      },
      "source": [
        "# Repeat ie Adding Second Layer of Convulation:\n",
        "cnn_classifier.add(Conv2D(32,(3,2),activation='relu'))"
      ],
      "execution_count": null,
      "outputs": []
    },
    {
      "cell_type": "code",
      "metadata": {
        "id": "vhP3hEo5HzHK",
        "colab_type": "code",
        "colab": {}
      },
      "source": [
        "# Repeat ie Pooling:\n",
        "cnn_classifier.add(MaxPooling2D(pool_size=(2,2)))"
      ],
      "execution_count": null,
      "outputs": []
    },
    {
      "cell_type": "code",
      "metadata": {
        "id": "IOe1YdMpHzXL",
        "colab_type": "code",
        "colab": {}
      },
      "source": [
        "#Step3: Flattening:\n",
        "cnn_classifier.add(Flatten())"
      ],
      "execution_count": null,
      "outputs": []
    },
    {
      "cell_type": "code",
      "metadata": {
        "id": "tQ5QgGVgJ-4z",
        "colab_type": "code",
        "colab": {}
      },
      "source": [
        "#Step4: Full Connection:\n",
        "cnn_classifier.add(Dense(units=128,activation='relu'))\n",
        "cnn_classifier.add(Dense(units=1,activation='sigmoid'))"
      ],
      "execution_count": null,
      "outputs": []
    },
    {
      "cell_type": "code",
      "metadata": {
        "id": "0lJXbykzHzhN",
        "colab_type": "code",
        "colab": {}
      },
      "source": [
        "#Step5:Compiling The CNN:\n",
        "cnn_classifier.compile(optimizer='adam',loss='binary_crossentropy',metrics=['accuracy'])"
      ],
      "execution_count": null,
      "outputs": []
    },
    {
      "cell_type": "code",
      "metadata": {
        "id": "Rf5bDslFHzdU",
        "colab_type": "code",
        "colab": {}
      },
      "source": [
        "## This is the part of Image Preprocessing: done to prevent over fitting.\n",
        "# Generator Class is used and  of two types:\n",
        "# 1st is .flow(x,y) and 2nd is .flowfromdirectory(indirectory)\n",
        "# we use 2nd one as this one is used for separate image data."
      ],
      "execution_count": null,
      "outputs": []
    },
    {
      "cell_type": "code",
      "metadata": {
        "id": "hGTzh_RVbB5T",
        "colab_type": "code",
        "colab": {}
      },
      "source": [
        "from keras.preprocessing.image import ImageDataGenerator\n",
        "train_datagen = ImageDataGenerator(\n",
        "        rescale=1./255,\n",
        "        shear_range=0.2,\n",
        "        zoom_range=0.2,\n",
        "        horizontal_flip=True)\n",
        "test_datagen = ImageDataGenerator(rescale=1./255)\n",
        "training_set = train_datagen.flow_from_directory(\n",
        "        '/content/drive/My Drive/dataset/training_set',\n",
        "        target_size=(64, 64),\n",
        "        batch_size=32,\n",
        "        class_mode='binary')\n",
        "testing_set = test_datagen.flow_from_directory(\n",
        "        '/content/drive/My Drive/dataset/test_set',\n",
        "        target_size=(64, 64),\n",
        "        batch_size=32,\n",
        "        class_mode='binary')\n",
        "cnn_classifier.fit(\n",
        "        testing_set,\n",
        "        steps_per_epoch=2000,\n",
        "        epochs=1,\n",
        "        validation_data=testing_set,\n",
        "        validation_steps=1000) "
      ],
      "execution_count": null,
      "outputs": []
    },
    {
      "cell_type": "code",
      "metadata": {
        "id": "O3JA1YdZbI0T",
        "colab_type": "code",
        "colab": {}
      },
      "source": [
        "#We have got really a good val score ,No trying to check it whether we are getting the image right or not."
      ],
      "execution_count": null,
      "outputs": []
    },
    {
      "cell_type": "code",
      "metadata": {
        "id": "Ve-2Z3Ks7_CM",
        "colab_type": "code",
        "colab": {}
      },
      "source": [
        "import numpy as np\n",
        "from keras.preprocessing import image\n",
        "test_image= image.load_img('/content/drive/My Drive/dataset/single_prediction/cat_or_dog_1.jpg', target_size=(64,64))\n",
        "test_image=image.img_to_array(test_image,axis=0)\n",
        "test_image=np.expand_dims(test_image)\n",
        "result=cnn_clssifier.predict(test_image)\n",
        "training_set.class_indices\n",
        "if result[0][0]==1:\n",
        "  prediction='dog'\n",
        "  print(prediction)\n",
        "else:\n",
        "  prediction='cat'"
      ],
      "execution_count": null,
      "outputs": []
    },
    {
      "cell_type": "code",
      "metadata": {
        "id": "HMndzQRVbYun",
        "colab_type": "code",
        "colab": {}
      },
      "source": [
        "#We have got the correct prediction."
      ],
      "execution_count": null,
      "outputs": []
    },
    {
      "cell_type": "markdown",
      "metadata": {
        "id": "qWRGE3geEOPS",
        "colab_type": "text"
      },
      "source": [
        ""
      ]
    }
  ]
}